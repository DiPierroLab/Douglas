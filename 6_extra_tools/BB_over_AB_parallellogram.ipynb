{
 "cells": [
  {
   "cell_type": "markdown",
   "id": "cd71582d-0bc9-4df3-9084-2f7bb22cd7fe",
   "metadata": {},
   "source": [
    "This code calculates the average contact frequency in both BB and AB interactions in trans within a parallelogram shaped region (to weight genomic distances the same for AB and BB interactions)."
   ]
  },
  {
   "cell_type": "code",
   "execution_count": null,
   "id": "e4c54671-0a01-4861-87d2-5951d7ad2aee",
   "metadata": {},
   "outputs": [],
   "source": [
    "import numpy as np\n",
    "import matplotlab.pyplot as plt"
   ]
  },
  {
   "cell_type": "code",
   "execution_count": null,
   "id": "754bb4fe-6616-47a6-830d-caaa659db0bb",
   "metadata": {},
   "outputs": [],
   "source": [
    "# With pairing\n",
    "M_423 = np.loadtxt('/work/dipierrolab/douglas/final_Hi-C_maps/Hi-C_directory_423.txt')\n",
    "\n",
    "# Without pairing\n",
    "M_425 = np.loadtxt('/work/dipierrolab/douglas/final_Hi-C_maps/Hi-C_directory_425.txt')"
   ]
  },
  {
   "cell_type": "code",
   "execution_count": null,
   "id": "04e1b3d7-6b58-4844-839c-81261bdbc3cf",
   "metadata": {},
   "outputs": [],
   "source": [
    "5000-2500/4"
   ]
  },
  {
   "cell_type": "code",
   "execution_count": null,
   "id": "fec43d70-bbad-4c04-bc46-ffb8540694ef",
   "metadata": {},
   "outputs": [],
   "source": [
    "total_423_AB = 0\n",
    "counter_423_AB = 0\n",
    "for i in range(0,625):\n",
    "    for j in range(4375,4375+i):\n",
    "        total_423_AB += M_423[i,j]\n",
    "        counter_423_AB += 1\n",
    "        M_423[i,j] = 0\n",
    "avg_423_AB = total_423_AB/counter_423_AB\n",
    "print('AB with pairing =',avg_423_AB)\n",
    "plt.matshow(M_423)"
   ]
  },
  {
   "cell_type": "code",
   "execution_count": null,
   "id": "131ed1cb-c8b7-4549-b31f-9b14a631460d",
   "metadata": {},
   "outputs": [],
   "source": []
  },
  {
   "cell_type": "code",
   "execution_count": null,
   "id": "589ca70b-4bbb-41c3-bab7-86e3e841d527",
   "metadata": {},
   "outputs": [],
   "source": []
  }
 ],
 "metadata": {
  "kernelspec": {
   "display_name": "Python 3 (ipykernel)",
   "language": "python",
   "name": "python3"
  },
  "language_info": {
   "codemirror_mode": {
    "name": "ipython",
    "version": 3
   },
   "file_extension": ".py",
   "mimetype": "text/x-python",
   "name": "python",
   "nbconvert_exporter": "python",
   "pygments_lexer": "ipython3",
   "version": "3.8.8"
  }
 },
 "nbformat": 4,
 "nbformat_minor": 5
}

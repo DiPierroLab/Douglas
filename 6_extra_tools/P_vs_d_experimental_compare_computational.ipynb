{
 "cells": [
  {
   "cell_type": "code",
   "execution_count": 1,
   "id": "90dedb3c",
   "metadata": {},
   "outputs": [
    {
     "name": "stdout",
     "output_type": "stream",
     "text": [
      "Intel MKL WARNING: Support of Intel(R) Streaming SIMD Extensions 4.2 (Intel(R) SSE4.2) enabled only processors has been deprecated. Intel oneAPI Math Kernel Library 2025.0 will require Intel(R) Advanced Vector Extensions (Intel(R) AVX) instructions.\n",
      "Intel MKL WARNING: Support of Intel(R) Streaming SIMD Extensions 4.2 (Intel(R) SSE4.2) enabled only processors has been deprecated. Intel oneAPI Math Kernel Library 2025.0 will require Intel(R) Advanced Vector Extensions (Intel(R) AVX) instructions.\n"
     ]
    }
   ],
   "source": [
    "import matplotlib.pyplot as plt\n",
    "import numpy as np"
   ]
  },
  {
   "cell_type": "code",
   "execution_count": 2,
   "id": "c549314c",
   "metadata": {},
   "outputs": [],
   "source": [
    "# Plot simulations with the following identifying numbers\n",
    "old_sims = [] # Sims with ID < 20 have 5kb resolution. Put their IDs here.\n",
    "new_sims = [154,158]"
   ]
  },
  {
   "cell_type": "markdown",
   "id": "b6f9119f",
   "metadata": {},
   "source": [
    "### Move simulation data from discovery to local machine."
   ]
  },
  {
   "cell_type": "code",
   "execution_count": 3,
   "id": "cc399b24",
   "metadata": {},
   "outputs": [],
   "source": [
    "import subprocess\n",
    "scp_list = [] # Fill list with integers that identify the simulations you want P vs d for\n",
    "for i in scp_list:\n",
    "    cis_from = f'white.do@xfer.discovery.neu.edu:/work/dipierrolab/douglas/PvsGenomic/PvsGenomic_directory_{i}.txt'\n",
    "    trans_from = f'white.do@xfer.discovery.neu.edu:/work/dipierrolab/douglas/PvsGenomic/transPvsGenomic_directory_{i}.txt'\n",
    "    HiC_from = f'white.do@xfer.discovery.neu.edu:/work/dipierrolab/douglas/final_Hi-C_maps/Hi-C_directory_{i}.png'\n",
    "    to = '/Users/douglas/Documents/Features_Transfer/store_Ps_vs_genomic_graphs'\n",
    "    HiC_to = '/Users/douglas/Desktop'\n",
    "    subprocess.run(['scp', cis_from, to])\n",
    "    subprocess.run(['scp', trans_from, to])\n",
    "    subprocess.run(['scp', HiC_from, HiC_to])"
   ]
  },
  {
   "cell_type": "markdown",
   "id": "28ffdafa",
   "metadata": {},
   "source": [
    "### Functions"
   ]
  },
  {
   "cell_type": "code",
   "execution_count": 4,
   "id": "fb414150",
   "metadata": {},
   "outputs": [],
   "source": [
    "def rebin(array_like, old_bins_per_new_bin):\n",
    "    N = len(array_like)\n",
    "    rebinned_list = []\n",
    "    for i in range(round(N/old_bins_per_new_bin)):\n",
    "        new_element = 0\n",
    "        for j in range(old_bins_per_new_bin):\n",
    "            new_element += array_like[old_bins_per_new_bin*i+j]\n",
    "        new_element /= old_bins_per_new_bin # Sets the first bin's probability to 1\n",
    "        rebinned_list.append(new_element)\n",
    "    rebinned_array = np.array(rebinned_list)\n",
    "    return rebinned_array\n",
    "\n",
    "# Experiment binned at 1kb, old sims at 5kb (per bead), new sims at 500bp (per bead)\n",
    "# To get the same bin size of 5kb for all of them, rebin accordingly:\n",
    "#                                                         old_bins_per_new_bin = 5  for experiment\n",
    "#                                                         old_bins_per_new_bin = 1  for old sims\n",
    "#                                                         old_bins_per_new_bin = 10  for new sims"
   ]
  },
  {
   "cell_type": "markdown",
   "id": "86e0a13d",
   "metadata": {},
   "source": [
    "### Load experimental data."
   ]
  },
  {
   "cell_type": "code",
   "execution_count": 5,
   "id": "adbdf185",
   "metadata": {},
   "outputs": [],
   "source": [
    "# Cis\n",
    "exp_cis_path = '/Users/douglas/Documents/Features_Transfer/figures/chr2_1kbRes_cis_P_vs_d.txt'\n",
    "P_cis_experiment = rebin(np.loadtxt(exp_cis_path), 5)\n",
    "\n",
    "# Trans\n",
    "exp_trans_path = '/Users/douglas/Documents/Features_Transfer/figures/chr2_1kbRes_trans_P_vs_d.txt'\n",
    "P_trans_experiment = rebin(np.loadtxt(exp_trans_path), 5)"
   ]
  },
  {
   "cell_type": "markdown",
   "id": "3ed91689",
   "metadata": {},
   "source": [
    "### Load simulation P vs d data."
   ]
  },
  {
   "cell_type": "code",
   "execution_count": 6,
   "id": "cc322097",
   "metadata": {},
   "outputs": [],
   "source": [
    "sim_path = '/Users/douglas/Documents/Features_Transfer/store_Ps_vs_genomic_graphs/'\n",
    "\n",
    "# Lists of file names\n",
    "old_cis_file_names = [sim_path+f'PvsGenomic_directory_{i}.txt' for i in old_sims]\n",
    "old_trans_file_names = [sim_path+f'transPvsGenomic_directory_{i}.txt' for i in old_sims]\n",
    "new_cis_file_names = [sim_path+f'PvsGenomic_directory_{i}.txt' for i in new_sims]\n",
    "new_trans_file_names = [sim_path+f'transPvsGenomic_directory_{i}.txt' for i in new_sims]\n",
    "\n",
    "# Load the files into an list (of arrays) \n",
    "old_cis_matrices = [rebin(np.loadtxt(file_name), 1) for file_name in old_cis_file_names]\n",
    "old_trans_matrices = [rebin(np.loadtxt(file_name), 1) for file_name in old_trans_file_names]\n",
    "new_cis_matrices = [rebin(np.loadtxt(file_name), 10) for file_name in new_cis_file_names]\n",
    "new_trans_matrices = [rebin(np.loadtxt(file_name), 10) for file_name in new_trans_file_names]"
   ]
  },
  {
   "cell_type": "markdown",
   "id": "bbe995ab",
   "metadata": {},
   "source": [
    "### Rescale experiment to compare better with simulation"
   ]
  },
  {
   "cell_type": "code",
   "execution_count": 7,
   "id": "144c1256",
   "metadata": {},
   "outputs": [],
   "source": [
    "pos = 1 # bin at which to equate cis experiment and cis simulation\n",
    "\n",
    "if len(old_cis_matrices) !=0:\n",
    "    for i in range(len(old_cis_matrices)):\n",
    "        rescale_factor = P_cis_experiment[pos]/old_cis_matrices[i][pos]\n",
    "        old_cis_matrices[i] *= rescale_factor\n",
    "        old_trans_matrices[i] *= rescale_factor\n",
    "\n",
    "if len(new_cis_matrices) !=0:\n",
    "    for i in range(len(new_cis_matrices)):\n",
    "        rescale_factor = P_cis_experiment[pos]/new_cis_matrices[i][pos]\n",
    "        new_cis_matrices[i] *= rescale_factor\n",
    "        new_trans_matrices[i] *= rescale_factor"
   ]
  },
  {
   "cell_type": "markdown",
   "id": "24471248",
   "metadata": {},
   "source": [
    "### Make genomic distance arrays"
   ]
  },
  {
   "cell_type": "code",
   "execution_count": 8,
   "id": "b32a7aa3",
   "metadata": {},
   "outputs": [],
   "source": [
    "N_exp = len(P_cis_experiment)\n",
    "if len(old_cis_matrices) !=0:\n",
    "    N_old_sim = len(old_cis_matrices[0])\n",
    "else:\n",
    "    N_old_sim = 0\n",
    "\n",
    "if len(new_cis_matrices) !=0:\n",
    "    N_new_sim = len(new_cis_matrices[0])\n",
    "else:\n",
    "    N_new_sim = 0\n",
    "\n",
    "# 5* makes each bin 5kb\n",
    "d_exp = 5*np.arange(N_exp)\n",
    "d_old_sim = 5*np.arange(N_old_sim)\n",
    "d_new_sim = 5*np.arange(N_new_sim)"
   ]
  },
  {
   "cell_type": "markdown",
   "id": "22f47e0e",
   "metadata": {},
   "source": [
    "## Plot P vs d"
   ]
  },
  {
   "cell_type": "code",
   "execution_count": 9,
   "id": "877bf49c",
   "metadata": {},
   "outputs": [
    {
     "name": "stderr",
     "output_type": "stream",
     "text": [
      "/var/folders/yg/xmt_zsl154zd8l51xlg5s_s40000gn/T/ipykernel_1630/3374523765.py:33: UserWarning: Attempt to set non-positive xlim on a log-scaled axis will be ignored.\n",
      "  plt.setp((ax1, ax2), xlim=(-1,400), ylim=(1e-6,7e-3))\n"
     ]
    },
    {
     "data": {
      "image/png": "[encoded data removed]",
      "text/plain": [
       "<Figure size 1000x400 with 2 Axes>"
      ]
     },
     "metadata": {},
     "output_type": "display_data"
    }
   ],
   "source": [
    "fig, (ax1, ax2) = plt.subplots(nrows=1, ncols=2, figsize=(10, 4))\n",
    "fig.suptitle('P vs d')\n",
    "\n",
    "#Plot simulation P vs d\n",
    "for i in range(len(old_sims)):\n",
    "    ax1.plot(d_old_sim, old_cis_matrices[i], label='simulation '+str(old_sims[i]))\n",
    "\n",
    "for i in range(len(old_sims)):\n",
    "    ax2.plot(d_old_sim, old_trans_matrices[i], label='simulation '+str(old_sims[i]))\n",
    "\n",
    "for i in range(len(new_sims)):\n",
    "    ax1.plot(d_new_sim, new_cis_matrices[i], label='simulation '+str(new_sims[i]))\n",
    "\n",
    "for i in range(len(new_sims)):\n",
    "    ax2.plot(d_new_sim, new_trans_matrices[i], label='simulation '+str(new_sims[i]))\n",
    "\n",
    "# Plot experimental P vs d\n",
    "ax1.plot(d_exp, P_cis_experiment, label='experiment chr 2 cis')\n",
    "ax2.plot(d_exp, P_trans_experiment, label='experiment chr 2 trans')\n",
    "    \n",
    "# Plot settings\n",
    "ax1.set_title('Cis')\n",
    "ax2.set_title('Trans')\n",
    "ax1.legend()\n",
    "ax2.legend()\n",
    "\n",
    "for ax in {ax1,ax2}:\n",
    "    ax.set_xlabel('genomic distance away from the diagonal in kb')\n",
    "    ax.set_xscale('log')\n",
    "    ax.set_ylabel('P')\n",
    "    ax.set_yscale('log')\n",
    "\n",
    "plt.setp((ax1, ax2), xlim=(-1,400), ylim=(1e-6,7e-3))\n",
    "plt.show()"
   ]
  },
  {
   "cell_type": "markdown",
   "id": "ceebbad8",
   "metadata": {},
   "source": [
    "### Load gammas"
   ]
  },
  {
   "cell_type": "code",
   "execution_count": 10,
   "id": "381dd0fe",
   "metadata": {},
   "outputs": [
    {
     "name": "stdout",
     "output_type": "stream",
     "text": [
      "-0.134014\n",
      "-0.134014\n"
     ]
    }
   ],
   "source": [
    "lambda_path = '/Users/douglas/Documents/Features_Transfer/store_lambdas'\n",
    "\n",
    "old_lambda_file_names = [lambda_path+f'/lambdas{i}.txt' for i in old_sims]\n",
    "\n",
    "new_lambda_file_names = [lambda_path+f'/lambdas{i}.txt' for i in new_sims]\n",
    "\n",
    "old_lambda_matrices = [np.loadtxt(file_name,delimiter=',',usecols = (0)) for file_name in old_lambda_file_names]\n",
    "old_cis_gamma_vecs = [L[0:2500]-L[2499] for L in old_lambda_matrices]\n",
    "old_trans_gamma_vecs = [L[2500:5000]-L[4999] for L in old_lambda_matrices]\n",
    "\n",
    "new_lambda_matrices = [np.loadtxt(file_name,delimiter=',',usecols = (0)) for file_name in new_lambda_file_names]\n",
    "new_cis_gamma_vecs = [L[0:2500]-L[2499] for L in new_lambda_matrices]\n",
    "new_trans_gamma_vecs = [L[2500:5000]-L[4999] for L in new_lambda_matrices]\n",
    "\n",
    "for L in new_lambda_matrices:\n",
    "    print(L[4999])"
   ]
  },
  {
   "cell_type": "markdown",
   "id": "da2cb964",
   "metadata": {},
   "source": [
    "## Plot gammas"
   ]
  },
  {
   "cell_type": "code",
   "execution_count": 11,
   "id": "0e6b78d6",
   "metadata": {},
   "outputs": [],
   "source": [
    "bead_size_old = 5 # kb\n",
    "bead_size_new = .500 # kb\n",
    "\n",
    "# 1D array of possible genomic distances in beads\n",
    "d = np.array(range(2500))"
   ]
  },
  {
   "cell_type": "code",
   "execution_count": 12,
   "id": "0145f351",
   "metadata": {},
   "outputs": [
    {
     "ename": "FileNotFoundError",
     "evalue": "/Users/douglas/Documents/DiPierroLab_Douglas/2_make_lambdas/gamma_154.txt not found.",
     "output_type": "error",
     "traceback": [
      "\u001b[0;31m---------------------------------------------------------------------------\u001b[0m",
      "\u001b[0;31mFileNotFoundError\u001b[0m                         Traceback (most recent call last)",
      "Cell \u001b[0;32mIn[12], line 3\u001b[0m\n\u001b[1;32m      1\u001b[0m gammas_path \u001b[38;5;241m=\u001b[39m \u001b[38;5;124m'\u001b[39m\u001b[38;5;124m/Users/douglas/Documents/DiPierroLab_Douglas/2_make_lambdas/\u001b[39m\u001b[38;5;124m'\u001b[39m\n\u001b[1;32m      2\u001b[0m old_gammas_list \u001b[38;5;241m=\u001b[39m [np\u001b[38;5;241m.\u001b[39mloadtxt(gammas_path\u001b[38;5;241m+\u001b[39m\u001b[38;5;124mf\u001b[39m\u001b[38;5;124m'\u001b[39m\u001b[38;5;124mgamma_\u001b[39m\u001b[38;5;132;01m{\u001b[39;00mi\u001b[38;5;132;01m}\u001b[39;00m\u001b[38;5;124m.txt\u001b[39m\u001b[38;5;124m'\u001b[39m) \u001b[38;5;28;01mfor\u001b[39;00m i \u001b[38;5;129;01min\u001b[39;00m old_sims ]\n\u001b[0;32m----> 3\u001b[0m new_gammas_list \u001b[38;5;241m=\u001b[39m [np\u001b[38;5;241m.\u001b[39mloadtxt(gammas_path\u001b[38;5;241m+\u001b[39m\u001b[38;5;124mf\u001b[39m\u001b[38;5;124m'\u001b[39m\u001b[38;5;124mgamma_\u001b[39m\u001b[38;5;132;01m{\u001b[39;00mi\u001b[38;5;132;01m}\u001b[39;00m\u001b[38;5;124m.txt\u001b[39m\u001b[38;5;124m'\u001b[39m) \u001b[38;5;28;01mfor\u001b[39;00m i \u001b[38;5;129;01min\u001b[39;00m new_sims ]\n\u001b[1;32m      5\u001b[0m \u001b[38;5;28;01mfor\u001b[39;00m i \u001b[38;5;129;01min\u001b[39;00m \u001b[38;5;28mrange\u001b[39m(\u001b[38;5;28mlen\u001b[39m(old_sims)):\n\u001b[1;32m      6\u001b[0m     plt\u001b[38;5;241m.\u001b[39mplot(d[\u001b[38;5;241m2\u001b[39m:],old_gammas_list[i][\u001b[38;5;241m2\u001b[39m:],label\u001b[38;5;241m=\u001b[39m\u001b[38;5;124mf\u001b[39m\u001b[38;5;124m'\u001b[39m\u001b[38;5;124msimulation \u001b[39m\u001b[38;5;132;01m{\u001b[39;00mold_sims[i]\u001b[38;5;132;01m}\u001b[39;00m\u001b[38;5;124m'\u001b[39m)\n",
      "Cell \u001b[0;32mIn[12], line 3\u001b[0m, in \u001b[0;36m<listcomp>\u001b[0;34m(.0)\u001b[0m\n\u001b[1;32m      1\u001b[0m gammas_path \u001b[38;5;241m=\u001b[39m \u001b[38;5;124m'\u001b[39m\u001b[38;5;124m/Users/douglas/Documents/DiPierroLab_Douglas/2_make_lambdas/\u001b[39m\u001b[38;5;124m'\u001b[39m\n\u001b[1;32m      2\u001b[0m old_gammas_list \u001b[38;5;241m=\u001b[39m [np\u001b[38;5;241m.\u001b[39mloadtxt(gammas_path\u001b[38;5;241m+\u001b[39m\u001b[38;5;124mf\u001b[39m\u001b[38;5;124m'\u001b[39m\u001b[38;5;124mgamma_\u001b[39m\u001b[38;5;132;01m{\u001b[39;00mi\u001b[38;5;132;01m}\u001b[39;00m\u001b[38;5;124m.txt\u001b[39m\u001b[38;5;124m'\u001b[39m) \u001b[38;5;28;01mfor\u001b[39;00m i \u001b[38;5;129;01min\u001b[39;00m old_sims ]\n\u001b[0;32m----> 3\u001b[0m new_gammas_list \u001b[38;5;241m=\u001b[39m [\u001b[43mnp\u001b[49m\u001b[38;5;241;43m.\u001b[39;49m\u001b[43mloadtxt\u001b[49m\u001b[43m(\u001b[49m\u001b[43mgammas_path\u001b[49m\u001b[38;5;241;43m+\u001b[39;49m\u001b[38;5;124;43mf\u001b[39;49m\u001b[38;5;124;43m'\u001b[39;49m\u001b[38;5;124;43mgamma_\u001b[39;49m\u001b[38;5;132;43;01m{\u001b[39;49;00m\u001b[43mi\u001b[49m\u001b[38;5;132;43;01m}\u001b[39;49;00m\u001b[38;5;124;43m.txt\u001b[39;49m\u001b[38;5;124;43m'\u001b[39;49m\u001b[43m)\u001b[49m \u001b[38;5;28;01mfor\u001b[39;00m i \u001b[38;5;129;01min\u001b[39;00m new_sims ]\n\u001b[1;32m      5\u001b[0m \u001b[38;5;28;01mfor\u001b[39;00m i \u001b[38;5;129;01min\u001b[39;00m \u001b[38;5;28mrange\u001b[39m(\u001b[38;5;28mlen\u001b[39m(old_sims)):\n\u001b[1;32m      6\u001b[0m     plt\u001b[38;5;241m.\u001b[39mplot(d[\u001b[38;5;241m2\u001b[39m:],old_gammas_list[i][\u001b[38;5;241m2\u001b[39m:],label\u001b[38;5;241m=\u001b[39m\u001b[38;5;124mf\u001b[39m\u001b[38;5;124m'\u001b[39m\u001b[38;5;124msimulation \u001b[39m\u001b[38;5;132;01m{\u001b[39;00mold_sims[i]\u001b[38;5;132;01m}\u001b[39;00m\u001b[38;5;124m'\u001b[39m)\n",
      "File \u001b[0;32m~/opt/anaconda3/lib/python3.9/site-packages/numpy/lib/npyio.py:1356\u001b[0m, in \u001b[0;36mloadtxt\u001b[0;34m(fname, dtype, comments, delimiter, converters, skiprows, usecols, unpack, ndmin, encoding, max_rows, quotechar, like)\u001b[0m\n\u001b[1;32m   1353\u001b[0m \u001b[38;5;28;01mif\u001b[39;00m \u001b[38;5;28misinstance\u001b[39m(delimiter, \u001b[38;5;28mbytes\u001b[39m):\n\u001b[1;32m   1354\u001b[0m     delimiter \u001b[38;5;241m=\u001b[39m delimiter\u001b[38;5;241m.\u001b[39mdecode(\u001b[38;5;124m'\u001b[39m\u001b[38;5;124mlatin1\u001b[39m\u001b[38;5;124m'\u001b[39m)\n\u001b[0;32m-> 1356\u001b[0m arr \u001b[38;5;241m=\u001b[39m \u001b[43m_read\u001b[49m\u001b[43m(\u001b[49m\u001b[43mfname\u001b[49m\u001b[43m,\u001b[49m\u001b[43m \u001b[49m\u001b[43mdtype\u001b[49m\u001b[38;5;241;43m=\u001b[39;49m\u001b[43mdtype\u001b[49m\u001b[43m,\u001b[49m\u001b[43m \u001b[49m\u001b[43mcomment\u001b[49m\u001b[38;5;241;43m=\u001b[39;49m\u001b[43mcomment\u001b[49m\u001b[43m,\u001b[49m\u001b[43m \u001b[49m\u001b[43mdelimiter\u001b[49m\u001b[38;5;241;43m=\u001b[39;49m\u001b[43mdelimiter\u001b[49m\u001b[43m,\u001b[49m\n\u001b[1;32m   1357\u001b[0m \u001b[43m            \u001b[49m\u001b[43mconverters\u001b[49m\u001b[38;5;241;43m=\u001b[39;49m\u001b[43mconverters\u001b[49m\u001b[43m,\u001b[49m\u001b[43m \u001b[49m\u001b[43mskiplines\u001b[49m\u001b[38;5;241;43m=\u001b[39;49m\u001b[43mskiprows\u001b[49m\u001b[43m,\u001b[49m\u001b[43m \u001b[49m\u001b[43musecols\u001b[49m\u001b[38;5;241;43m=\u001b[39;49m\u001b[43musecols\u001b[49m\u001b[43m,\u001b[49m\n\u001b[1;32m   1358\u001b[0m \u001b[43m            \u001b[49m\u001b[43munpack\u001b[49m\u001b[38;5;241;43m=\u001b[39;49m\u001b[43munpack\u001b[49m\u001b[43m,\u001b[49m\u001b[43m \u001b[49m\u001b[43mndmin\u001b[49m\u001b[38;5;241;43m=\u001b[39;49m\u001b[43mndmin\u001b[49m\u001b[43m,\u001b[49m\u001b[43m \u001b[49m\u001b[43mencoding\u001b[49m\u001b[38;5;241;43m=\u001b[39;49m\u001b[43mencoding\u001b[49m\u001b[43m,\u001b[49m\n\u001b[1;32m   1359\u001b[0m \u001b[43m            \u001b[49m\u001b[43mmax_rows\u001b[49m\u001b[38;5;241;43m=\u001b[39;49m\u001b[43mmax_rows\u001b[49m\u001b[43m,\u001b[49m\u001b[43m \u001b[49m\u001b[43mquote\u001b[49m\u001b[38;5;241;43m=\u001b[39;49m\u001b[43mquotechar\u001b[49m\u001b[43m)\u001b[49m\n\u001b[1;32m   1361\u001b[0m \u001b[38;5;28;01mreturn\u001b[39;00m arr\n",
      "File \u001b[0;32m~/opt/anaconda3/lib/python3.9/site-packages/numpy/lib/npyio.py:975\u001b[0m, in \u001b[0;36m_read\u001b[0;34m(fname, delimiter, comment, quote, imaginary_unit, usecols, skiplines, max_rows, converters, ndmin, unpack, dtype, encoding)\u001b[0m\n\u001b[1;32m    973\u001b[0m     fname \u001b[38;5;241m=\u001b[39m os\u001b[38;5;241m.\u001b[39mfspath(fname)\n\u001b[1;32m    974\u001b[0m \u001b[38;5;28;01mif\u001b[39;00m \u001b[38;5;28misinstance\u001b[39m(fname, \u001b[38;5;28mstr\u001b[39m):\n\u001b[0;32m--> 975\u001b[0m     fh \u001b[38;5;241m=\u001b[39m \u001b[43mnp\u001b[49m\u001b[38;5;241;43m.\u001b[39;49m\u001b[43mlib\u001b[49m\u001b[38;5;241;43m.\u001b[39;49m\u001b[43m_datasource\u001b[49m\u001b[38;5;241;43m.\u001b[39;49m\u001b[43mopen\u001b[49m\u001b[43m(\u001b[49m\u001b[43mfname\u001b[49m\u001b[43m,\u001b[49m\u001b[43m \u001b[49m\u001b[38;5;124;43m'\u001b[39;49m\u001b[38;5;124;43mrt\u001b[39;49m\u001b[38;5;124;43m'\u001b[39;49m\u001b[43m,\u001b[49m\u001b[43m \u001b[49m\u001b[43mencoding\u001b[49m\u001b[38;5;241;43m=\u001b[39;49m\u001b[43mencoding\u001b[49m\u001b[43m)\u001b[49m\n\u001b[1;32m    976\u001b[0m     \u001b[38;5;28;01mif\u001b[39;00m encoding \u001b[38;5;129;01mis\u001b[39;00m \u001b[38;5;28;01mNone\u001b[39;00m:\n\u001b[1;32m    977\u001b[0m         encoding \u001b[38;5;241m=\u001b[39m \u001b[38;5;28mgetattr\u001b[39m(fh, \u001b[38;5;124m'\u001b[39m\u001b[38;5;124mencoding\u001b[39m\u001b[38;5;124m'\u001b[39m, \u001b[38;5;124m'\u001b[39m\u001b[38;5;124mlatin1\u001b[39m\u001b[38;5;124m'\u001b[39m)\n",
      "File \u001b[0;32m~/opt/anaconda3/lib/python3.9/site-packages/numpy/lib/_datasource.py:193\u001b[0m, in \u001b[0;36mopen\u001b[0;34m(path, mode, destpath, encoding, newline)\u001b[0m\n\u001b[1;32m    156\u001b[0m \u001b[38;5;250m\u001b[39m\u001b[38;5;124;03m\"\"\"\u001b[39;00m\n\u001b[1;32m    157\u001b[0m \u001b[38;5;124;03mOpen `path` with `mode` and return the file object.\u001b[39;00m\n\u001b[1;32m    158\u001b[0m \n\u001b[0;32m   (...)\u001b[0m\n\u001b[1;32m    189\u001b[0m \n\u001b[1;32m    190\u001b[0m \u001b[38;5;124;03m\"\"\"\u001b[39;00m\n\u001b[1;32m    192\u001b[0m ds \u001b[38;5;241m=\u001b[39m DataSource(destpath)\n\u001b[0;32m--> 193\u001b[0m \u001b[38;5;28;01mreturn\u001b[39;00m \u001b[43mds\u001b[49m\u001b[38;5;241;43m.\u001b[39;49m\u001b[43mopen\u001b[49m\u001b[43m(\u001b[49m\u001b[43mpath\u001b[49m\u001b[43m,\u001b[49m\u001b[43m \u001b[49m\u001b[43mmode\u001b[49m\u001b[43m,\u001b[49m\u001b[43m \u001b[49m\u001b[43mencoding\u001b[49m\u001b[38;5;241;43m=\u001b[39;49m\u001b[43mencoding\u001b[49m\u001b[43m,\u001b[49m\u001b[43m \u001b[49m\u001b[43mnewline\u001b[49m\u001b[38;5;241;43m=\u001b[39;49m\u001b[43mnewline\u001b[49m\u001b[43m)\u001b[49m\n",
      "File \u001b[0;32m~/opt/anaconda3/lib/python3.9/site-packages/numpy/lib/_datasource.py:533\u001b[0m, in \u001b[0;36mDataSource.open\u001b[0;34m(self, path, mode, encoding, newline)\u001b[0m\n\u001b[1;32m    530\u001b[0m     \u001b[38;5;28;01mreturn\u001b[39;00m _file_openers[ext](found, mode\u001b[38;5;241m=\u001b[39mmode,\n\u001b[1;32m    531\u001b[0m                               encoding\u001b[38;5;241m=\u001b[39mencoding, newline\u001b[38;5;241m=\u001b[39mnewline)\n\u001b[1;32m    532\u001b[0m \u001b[38;5;28;01melse\u001b[39;00m:\n\u001b[0;32m--> 533\u001b[0m     \u001b[38;5;28;01mraise\u001b[39;00m \u001b[38;5;167;01mFileNotFoundError\u001b[39;00m(\u001b[38;5;124mf\u001b[39m\u001b[38;5;124m\"\u001b[39m\u001b[38;5;132;01m{\u001b[39;00mpath\u001b[38;5;132;01m}\u001b[39;00m\u001b[38;5;124m not found.\u001b[39m\u001b[38;5;124m\"\u001b[39m)\n",
      "\u001b[0;31mFileNotFoundError\u001b[0m: /Users/douglas/Documents/DiPierroLab_Douglas/2_make_lambdas/gamma_154.txt not found."
     ]
    }
   ],
   "source": [
    "gammas_path = '/Users/douglas/Documents/DiPierroLab_Douglas/2_make_lambdas/'\n",
    "old_gammas_list = [np.loadtxt(gammas_path+f'gamma_{i}.txt') for i in old_sims ]\n",
    "new_gammas_list = [np.loadtxt(gammas_path+f'gamma_{i}.txt') for i in new_sims ]\n",
    "\n",
    "for i in range(len(old_sims)):\n",
    "    plt.plot(d[2:],old_gammas_list[i][2:],label=f'simulation {old_sims[i]}')\n",
    "\n",
    "for i in range(len(new_sims)):\n",
    "    plt.plot(d[2:],new_gammas_list[i][2:],label=f'simulation {new_sims[i]}')\n",
    "\n",
    "# Plot settings\n",
    "\n",
    "plt.legend()\n",
    "plt.xlabel('genomic distance away from the diagonal in kb')\n",
    "plt.ylabel('gamma')\n",
    "plt.xlim=(-1,1250)\n",
    "plt.show()"
   ]
  },
  {
   "cell_type": "code",
   "execution_count": null,
   "id": "d6a0f5bb",
   "metadata": {},
   "outputs": [],
   "source": [
    "gamma_path = '/Users/douglas/Documents/DiPierroLab_Douglas/2_make_lambdas'\n",
    "gamma_111_cis=np.loadtxt(gamma_path+'/gamma_100.txt')    \n",
    "gamma_111_trans=np.loadtxt(gamma_path+'/gamma_111.txt')    \n",
    "plt.plot(gamma_111_cis,label='gamma_111_cis')\n",
    "plt.plot(gamma_111_trans,label='gamma_111_trans')\n",
    "# Plot settings\n",
    "\n",
    "plt.legend()\n",
    "plt.xlabel('genomic distance away from the diagonal in kb')\n",
    "plt.ylabel('gamma')\n",
    "plt.xlim=(-1,1250)\n",
    "plt.show()"
   ]
  },
  {
   "cell_type": "code",
   "execution_count": null,
   "id": "afdf14ac",
   "metadata": {},
   "outputs": [],
   "source": []
  }
 ],
 "metadata": {
  "kernelspec": {
   "display_name": "Python 3 (ipykernel)",
   "language": "python",
   "name": "python3"
  },
  "language_info": {
   "codemirror_mode": {
    "name": "ipython",
    "version": 3
   },
   "file_extension": ".py",
   "mimetype": "text/x-python",
   "name": "python",
   "nbconvert_exporter": "python",
   "pygments_lexer": "ipython3",
   "version": "3.9.18"
  }
 },
 "nbformat": 4,
 "nbformat_minor": 5
}

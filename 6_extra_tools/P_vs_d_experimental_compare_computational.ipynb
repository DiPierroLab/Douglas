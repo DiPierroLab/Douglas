{
 "cells": [
  {
   "cell_type": "code",
   "execution_count": 1,
   "id": "90dedb3c",
   "metadata": {},
   "outputs": [],
   "source": [
    "import matplotlib.pyplot as plt\n",
    "import numpy as np"
   ]
  },
  {
   "cell_type": "code",
   "execution_count": 2,
   "id": "c549314c",
   "metadata": {},
   "outputs": [],
   "source": [
    "# Plot simulations with the following identifying numbers\n",
    "old_sims = [] # Sims with ID < 20 have 5kb resolution. Put their IDs here.\n",
    "new_sims = [412,433,435]"
   ]
  },
  {
   "cell_type": "markdown",
   "id": "b6f9119f",
   "metadata": {},
   "source": [
    "### Move simulation data from discovery to local machine."
   ]
  },
  {
   "cell_type": "code",
   "execution_count": null,
   "id": "cc399b24",
   "metadata": {},
   "outputs": [
    {
     "name": "stdout",
     "output_type": "stream",
     "text": [
      "411\n",
      "412\n",
      "413\n",
      "414\n",
      "415\n",
      "416\n",
      "417\n",
      "418\n",
      "419\n",
      "420\n",
      "421\n",
      "422\n",
      "423\n",
      "424\n",
      "425\n",
      "426\n",
      "427\n",
      "428\n",
      "429\n"
     ]
    }
   ],
   "source": [
    "import subprocess\n",
    "scp_list = [i for i in range(411,436)] # Fill list with integers that identify the simulations you want P vs d for\n",
    "for i in scp_list:\n",
    "    cis_from = f'white.do@xfer.discovery.neu.edu:/work/dipierrolab/douglas/PvsGenomic/PvsGenomic_directory_{i}.txt'\n",
    "    trans_from = f'white.do@xfer.discovery.neu.edu:/work/dipierrolab/douglas/PvsGenomic/transPvsGenomic_directory_{i}.txt'\n",
    "    HiC_from = f'white.do@xfer.discovery.neu.edu:/work/dipierrolab/douglas/final_Hi-C_maps/Hi-C_directory_{i}.png'\n",
    "    to = '/Users/douglas/Documents/Features_Transfer/store_Ps_vs_genomic_graphs'\n",
    "    HiC_to = '/Users/douglas/Desktop'\n",
    "    #subprocess.run(['scp', cis_from, to])\n",
    "    #subprocess.run(['scp', trans_from, to])\n",
    "    subprocess.run(['scp', HiC_from, HiC_to])\n",
    "    print(i)"
   ]
  },
  {
   "cell_type": "markdown",
   "id": "28ffdafa",
   "metadata": {},
   "source": [
    "### Functions"
   ]
  },
  {
   "cell_type": "code",
   "execution_count": 4,
   "id": "fb414150",
   "metadata": {},
   "outputs": [],
   "source": [
    "def rebin(array_like, old_bins_per_new_bin):\n",
    "    N = len(array_like)\n",
    "    rebinned_list = []\n",
    "    for i in range(round(N/old_bins_per_new_bin)):\n",
    "        new_element = 0\n",
    "        for j in range(old_bins_per_new_bin):\n",
    "            new_element += array_like[old_bins_per_new_bin*i+j]\n",
    "        new_element /= old_bins_per_new_bin # Sets the first bin's probability to 1\n",
    "        rebinned_list.append(new_element)\n",
    "    rebinned_array = np.array(rebinned_list)\n",
    "    return rebinned_array\n",
    "\n",
    "# Experiment binned at 1kb, old sims at 5kb (per bead), new sims at 500bp (per bead)\n",
    "# To get the same bin size of 5kb for all of them, rebin accordingly:\n",
    "#                                                         old_bins_per_new_bin = 5  for experiment\n",
    "#                                                         old_bins_per_new_bin = 1  for old sims\n",
    "#                                                         old_bins_per_new_bin = 10  for new sims"
   ]
  },
  {
   "cell_type": "markdown",
   "id": "86e0a13d",
   "metadata": {},
   "source": [
    "### Load experimental data."
   ]
  },
  {
   "cell_type": "code",
   "execution_count": 5,
   "id": "adbdf185",
   "metadata": {},
   "outputs": [],
   "source": [
    "# Cis\n",
    "exp_cis_path = '/Users/douglas/Documents/Features_Transfer/figures/chr2_1kbRes_cis_P_vs_d.txt'\n",
    "P_cis_experiment = rebin(np.loadtxt(exp_cis_path), 5)\n",
    "\n",
    "# Trans\n",
    "exp_trans_path = '/Users/douglas/Documents/Features_Transfer/figures/chr2_1kbRes_trans_P_vs_d.txt'\n",
    "P_trans_experiment = rebin(np.loadtxt(exp_trans_path), 5)"
   ]
  },
  {
   "cell_type": "markdown",
   "id": "3ed91689",
   "metadata": {},
   "source": [
    "### Load simulation P vs d data."
   ]
  },
  {
   "cell_type": "code",
   "execution_count": 6,
   "id": "cc322097",
   "metadata": {},
   "outputs": [],
   "source": [
    "sim_path = '/Users/douglas/Documents/Features_Transfer/store_Ps_vs_genomic_graphs/'\n",
    "\n",
    "# Lists of file names\n",
    "old_cis_file_names = [sim_path+f'PvsGenomic_directory_{i}.txt' for i in old_sims]\n",
    "old_trans_file_names = [sim_path+f'transPvsGenomic_directory_{i}.txt' for i in old_sims]\n",
    "new_cis_file_names = [sim_path+f'PvsGenomic_directory_{i}.txt' for i in new_sims]\n",
    "new_trans_file_names = [sim_path+f'transPvsGenomic_directory_{i}.txt' for i in new_sims]\n",
    "\n",
    "# Load the files into an list (of arrays) \n",
    "old_cis_matrices = [rebin(np.loadtxt(file_name), 1) for file_name in old_cis_file_names]\n",
    "old_trans_matrices = [rebin(np.loadtxt(file_name), 1) for file_name in old_trans_file_names]\n",
    "new_cis_matrices = [rebin(np.loadtxt(file_name), 10) for file_name in new_cis_file_names]\n",
    "new_trans_matrices = [rebin(np.loadtxt(file_name), 10) for file_name in new_trans_file_names]"
   ]
  },
  {
   "cell_type": "markdown",
   "id": "bbe995ab",
   "metadata": {},
   "source": [
    "### Rescale simulation to compare better with experiment"
   ]
  },
  {
   "cell_type": "code",
   "execution_count": 7,
   "id": "144c1256",
   "metadata": {},
   "outputs": [],
   "source": [
    "pos = 1 # bin at which to equate cis experiment and cis simulation\n",
    "\n",
    "if len(old_cis_matrices) !=0:\n",
    "    for i in range(len(old_cis_matrices)):\n",
    "        rescale_factor = P_cis_experiment[pos]/old_cis_matrices[i][pos]\n",
    "        old_cis_matrices[i] *= rescale_factor\n",
    "        old_trans_matrices[i] *= rescale_factor\n",
    "\n",
    "if len(new_cis_matrices) !=0:\n",
    "    for i in range(len(new_cis_matrices)):\n",
    "        rescale_factor = P_cis_experiment[pos]/new_cis_matrices[i][pos]\n",
    "        new_cis_matrices[i] *= rescale_factor\n",
    "        new_trans_matrices[i] *= rescale_factor"
   ]
  },
  {
   "cell_type": "markdown",
   "id": "24471248",
   "metadata": {},
   "source": [
    "### Make genomic distance arrays"
   ]
  },
  {
   "cell_type": "code",
   "execution_count": 8,
   "id": "b32a7aa3",
   "metadata": {},
   "outputs": [],
   "source": [
    "N_exp = len(P_cis_experiment)\n",
    "if len(old_cis_matrices) !=0:\n",
    "    N_old_sim = len(old_cis_matrices[0])\n",
    "else:\n",
    "    N_old_sim = 0\n",
    "\n",
    "if len(new_cis_matrices) !=0:\n",
    "    N_new_sim = len(new_cis_matrices[0])\n",
    "else:\n",
    "    N_new_sim = 0\n",
    "\n",
    "# 5* makes each bin 5kb\n",
    "d_exp = 5*np.arange(N_exp)\n",
    "d_old_sim = 5*np.arange(N_old_sim)\n",
    "d_new_sim = 5*np.arange(N_new_sim)"
   ]
  },
  {
   "cell_type": "markdown",
   "id": "22f47e0e",
   "metadata": {},
   "source": [
    "## Plot P vs d"
   ]
  },
  {
   "cell_type": "code",
   "execution_count": 9,
   "id": "877bf49c",
   "metadata": {},
   "outputs": [
    {
     "name": "stderr",
     "output_type": "stream",
     "text": [
      "/var/folders/yg/xmt_zsl154zd8l51xlg5s_s40000gn/T/ipykernel_3092/1329535793.py:33: UserWarning: Attempt to set non-positive xlim on a log-scaled axis will be ignored.\n",
      "  plt.setp((ax1, ax2), xlim=(-1,400), ylim=(1e-6,7e-3))\n"
     ]
    },
    {
     "data": {
      "image/png": "[encoded data removed]",
      "text/plain": [
       "<Figure size 1000x400 with 2 Axes>"
      ]
     },
     "metadata": {},
     "output_type": "display_data"
    }
   ],
   "source": [
    "fig, (ax1, ax2) = plt.subplots(nrows=1, ncols=2, figsize=(10, 4))\n",
    "fig.suptitle('P vs d')\n",
    "\n",
    "#Plot simulation P vs d\n",
    "for i in range(len(old_sims)):\n",
    "    ax1.plot(d_old_sim, old_cis_matrices[i], label='simulation '+str(old_sims[i]))\n",
    "\n",
    "for i in range(len(old_sims)):\n",
    "    ax2.plot(d_old_sim, old_trans_matrices[i], label='simulation '+str(old_sims[i]))\n",
    "\n",
    "for i in range(len(new_sims)):\n",
    "    ax1.plot(d_new_sim, new_cis_matrices[i], label='simulation '+str(new_sims[i]))\n",
    "\n",
    "for i in range(len(new_sims)):\n",
    "    ax2.plot(d_new_sim, new_trans_matrices[i], label='simulation '+str(new_sims[i]))\n",
    "\n",
    "# Plot experimental P vs d\n",
    "ax1.plot(d_exp, P_cis_experiment, label='experiment cis')\n",
    "ax2.plot(d_exp, P_trans_experiment, label='experiment trans')\n",
    "\n",
    "# Plot settings\n",
    "ax1.set_title('Cis')\n",
    "ax2.set_title('Trans')\n",
    "ax1.legend()\n",
    "ax2.legend()\n",
    "\n",
    "for ax in {ax1,ax2}:\n",
    "    ax.set_xlabel('genomic distance away from the diagonal in kb')\n",
    "    ax.set_xscale('log')\n",
    "    ax.set_ylabel('P')\n",
    "    ax.set_yscale('log')\n",
    "\n",
    "plt.setp((ax1, ax2), xlim=(-1,400), ylim=(1e-6,7e-3))\n",
    "plt.show()"
   ]
  },
  {
   "cell_type": "code",
   "execution_count": null,
   "id": "81eb50a4",
   "metadata": {},
   "outputs": [],
   "source": []
  }
 ],
 "metadata": {
  "kernelspec": {
   "display_name": "Python 3 (ipykernel)",
   "language": "python",
   "name": "python3"
  },
  "language_info": {
   "codemirror_mode": {
    "name": "ipython",
    "version": 3
   },
   "file_extension": ".py",
   "mimetype": "text/x-python",
   "name": "python",
   "nbconvert_exporter": "python",
   "pygments_lexer": "ipython3",
   "version": "3.12.4"
  }
 },
 "nbformat": 4,
 "nbformat_minor": 5
}

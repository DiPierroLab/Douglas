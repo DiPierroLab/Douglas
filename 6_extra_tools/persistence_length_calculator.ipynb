{
 "cells": [
  {
   "cell_type": "code",
   "execution_count": null,
   "id": "3abbab9f",
   "metadata": {
    "scrolled": true,
    "tags": []
   },
   "outputs": [],
   "source": [
    "from OpenMiChroM.CndbTools import cndbTools\n",
    "import numpy as np\n",
    "from scipy.optimize import curve_fit\n",
    "import matplotlib.pyplot as plt"
   ]
  },
  {
   "cell_type": "code",
<<<<<<< HEAD
   "execution_count": null,
=======
   "execution_count": 2,
>>>>>>> f5b3edd32c4ee2f8cc49059762e72b40ed70eb7e
   "id": "b7fc918c",
   "metadata": {},
   "outputs": [],
   "source": [
    "# Define functions that calculate the persistence length of a polymer from its trajectory\n",
    "# Strategy: Compute the persistence length of each structure in a trajectory\n",
    "#           Report the average persistence length\n",
    "#           The uncertainty will be the standard deviation of the persistence lengths\n",
    "\n",
    "def cosine_average_array(frame): # For a given frame, gives the list of cosines of angles to the first bond\n",
    "    vec_0 = frame[1] - frame[0] # Displacement vector between the first two beads in the frame\n",
    "    N_beads = len(frame) # Number of beads in the chain input as frames\n",
    "    cosine_average_array = np.zeros(N_beads-1)\n",
    "    counter = np.zeros(N_beads-1)\n",
    "    for i in range(N_beads-1):\n",
    "        tan_i = frame[i+1] - frame[i] # tangent vector at position i\n",
    "        for j in range(i+1):\n",
    "            tan_j = frame[j+1] - frame[j] # tangent vector at position j\n",
    "            cosine_ij = np.vdot(tan_i,tan_j)/(np.linalg.norm(tan_i)*np.linalg.norm(tan_j))\n",
    "            cosine_average_array[abs(i-j)] += cosine_ij\n",
    "            counter[abs(i-j)] += 1\n",
    "    cosine_average_array /= counter\n",
    "    return cosine_average_array\n",
    "\n",
    "def decaying_exponential(L, persistence_length):\n",
    "    return np.exp(-L/persistence_length)\n",
    "\n",
    "def persistence_length(cosine_average_array, bead_size = 500): \n",
    "    # Given an array of cosines, fits to a decaying exponential and outputs the length scale\n",
    "    # bead size in base pairs\n",
    "    N_bead = len(cosine_average_array) # Number of entries in the cosine array\n",
    "    ds = bead_size * np.array(range(N_bead)) # Genomic distances in base pairs\n",
    "    initial_guess = (500.0)\n",
    "    popt, pcov = curve_fit(decaying_exponential, ds,cosine_average_array, p0=initial_guess) # Fit the data\n",
    "    persistence_length_opt = popt[0] # Extract optimized persistence length\n",
    "    return persistence_length_opt\n",
    "\n",
    "def persistence_length_average_uncertainty(frames, bead_size = 500):\n",
    "    N_beads = len(frames[0])\n",
    "    N_frames = len(frames)\n",
    "    persistence_lengths_list = []\n",
    "    ensemble_average_cosines_array = np.zeros(N_beads-1) # This is not used in the persistence length calculation because persistence length is a structure level phenomenon; additionally, we need to calculate an uncertainty, which we can't get with one datapoint\n",
    "    for i in range(N_frames):\n",
    "        frame = frames[i] # Array of bead positions\n",
    "        frame_cosine_average_array = cosine_average_array(frame)\n",
    "        frame_persistence_length = persistence_length(frame_cosine_average_array, bead_size)\n",
    "        persistence_lengths_list.append(frame_persistence_length)\n",
    "        ensemble_average_cosines_array += frame_cosine_average_array\n",
    "    persistence_lengths_array = np.array(persistence_lengths_list)\n",
    "    ensemble_average_cosines_array /= N_frames\n",
    "    pers = np.average(persistence_lengths_array) # Average persistence length over the dataset of structures.\n",
    "    unc = np.std(persistence_lengths_array)\n",
    "    print('Persistence length =',round(pers),'+/-',round(unc),'bp')\n",
    "    return pers, unc, ensemble_average_cosines_array\n"
   ]
  },
  {
   "cell_type": "markdown",
   "id": "6cd9b246",
   "metadata": {},
   "source": [
    "## Newer Ideal Chromosomes at 500 bp resolution"
   ]
  },
  {
   "cell_type": "code",
   "execution_count": null,
<<<<<<< HEAD
   "id": "3a9d6d82-178f-41f0-b699-299d22bf64d6",
   "metadata": {},
   "outputs": [],
   "source": [
    "cndbTools = cndbTools()\n",
    "\n",
    "cndbTools.load('/scratch/white.do/Pairing/directory_59/part_2/traj_0.cndb')"
   ]
  },
  {
   "cell_type": "code",
   "execution_count": null,
   "id": "be8b1c2f",
=======
   "id": "a053d624",
>>>>>>> f5b3edd32c4ee2f8cc49059762e72b40ed70eb7e
   "metadata": {},
   "outputs": [],
   "source": [
    "path = '/Users/douglas/Documents/Features Transfer/trajectories/' # path to sample trajectory cndb, ndb, and pdbs files.\n",
    "\n",
    "cndbTools85 = cndbTools()\n",
    "cndbTools85.load(path+'traj_0_sim_85.cndb')\n",
    "step_size = 1000 # Step size between frames\n",
    "\n",
    "print('Tight')\n",
    "sim_85_tight_xyz = cndbTools85.xyz(frames=[10000,30000,step_size], beadSelection=range(0,1000), XYZ=[0,1,2])\n",
    "pers_85_tight, unc_85_tight, ensemble_85_avg_tight_cosines = persistence_length_average_uncertainty(sim_85_tight_xyz)\n",
    "print('')\n",
    "\n",
    "print('Loose')\n",
    "sim_85_loose_xyz = cndbTools85.xyz(frames=[10000,30000,step_size], beadSelection=range(1000,1500), XYZ=[0,1,2])\n",
    "pers_85_loose, unc_85_loose, ensemble_85_avg_loose_cosines = persistence_length_average_uncertainty(sim_85_loose_xyz)"
   ]
  },
  {
   "cell_type": "markdown",
   "id": "95de40fe",
   "metadata": {},
   "source": [
    "### Sanity Check Plot"
   ]
  },
  {
   "cell_type": "code",
   "execution_count": null,
   "id": "64178ec6",
   "metadata": {},
   "outputs": [],
   "source": [
    "# Load tight cosines\n",
    "frame_tight = sim_85_tight_xyz[1]\n",
    "N_beads = len(frame_tight)\n",
    "bead_size = 500 # base pairs\n",
    "ds_tight = bead_size * np.array(range(N_beads-1)) # Genomic distances in base pairs\n",
    "frame_cosine_average_array_tight = cosine_average_array(frame_tight)\n",
    "\n",
    "# Tight fit\n",
    "chain_length_tight = bead_size * (N_beads-1) # Length of the input array's corresponding chain in base pairs\n",
    "fit_x_tight = np.linspace(0,chain_length_tight,1001)\n",
    "fit_y_tight = np.exp(-fit_x_tight/pers_85_tight)\n",
    "\n",
    "# Load loose cosines\n",
    "frame_loose = sim_85_loose_xyz[0]\n",
    "N_beads = len(frame_loose)\n",
    "bead_size = 500 # base pairs\n",
    "ds_loose = bead_size * np.array(range(N_beads-1)) # Genomic distances in base pairs\n",
    "frame_cosine_average_array_loose = cosine_average_array(frame_loose)\n",
    "\n",
    "# loose fit\n",
    "chain_length_loose = bead_size * (N_beads-1) # Length of the input array's corresponding chain in base pairs\n",
    "fit_x_loose = np.linspace(0,chain_length_loose,1001)\n",
    "fit_y_loose = np.exp(-fit_x_loose/pers_85_loose)\n",
    "\n",
    "# Plot\n",
    "#plt.plot(ds_tight,frame_cosine_average_array_tight,label='sim 85 single structure tight cosines')\n",
    "plt.plot(ds_tight,ensemble_85_avg_tight_cosines,label='sim 85 multiple structure average tight cosines')\n",
    "#plt.plot(fit_x_tight,fit_y_tight,label='fit_tight')\n",
    "\n",
    "#plt.plot(ds_loose,frame_cosine_average_array_loose,label='sim 85 single structure loose cosines')\n",
    "plt.plot(ds_loose,ensemble_85_avg_loose_cosines,label='sim 85 multiple structure average loose cosines')\n",
    "#plt.plot(fit_x_loose,fit_y_loose,label='fit_loose')\n",
    "\n",
    "# Plot settings\n",
    "plt.title('Cosine vs d')\n",
    "plt.xlim(0,30000)\n",
    "plt.xlabel('genomic distance (base pairs)')\n",
    "plt.legend()\n",
    "plt.show()"
   ]
  },
  {
   "cell_type": "markdown",
   "id": "6c9300b5",
   "metadata": {},
   "source": [
    "## MiChroM Ideal Chromosome simulations at 5 kb"
   ]
  },
  {
   "cell_type": "code",
<<<<<<< HEAD
   "execution_count": null,
   "id": "470f5cd1",
   "metadata": {},
   "outputs": [],
=======
   "execution_count": 11,
   "id": "72dca0e2",
   "metadata": {},
   "outputs": [
    {
     "name": "stdout",
     "output_type": "stream",
     "text": [
      "Unpaired\n",
      "Persistence length = 844 +/- 10 bp\n",
      "\n",
      "Paired\n",
      "Persistence length = 874 +/- 21 bp\n"
     ]
    }
   ],
   "source": [
    "path = '/Users/douglas/Documents/Features Transfer/trajectories/' # path to sample trajectory cndb, ndb, and pdbs files.\n",
    "\n",
    "cndbTools1 = cndbTools()\n",
    "cndbTools1.load(path+'traj_0_sim_1.cndb')\n",
    "cndbTools2 = cndbTools()\n",
    "cndbTools2.load(path+'traj_0_sim_2.cndb')\n",
    "step_size = 3000 # Step size between frames\n",
    "\n",
    "print('Unpaired')\n",
    "sim_1_unpaired_xyz = cndbTools1.xyz(frames=[10000,30000,step_size], XYZ=[0,1,2])\n",
    "pers_1_unpaired, unc_1_unpaired, ensemble_1_avg_unpaired_cosines = persistence_length_average_uncertainty(sim_1_unpaired_xyz, bead_size = 5000)\n",
    "print('')\n",
    "\n",
    "print('Paired')\n",
    "sim_2_paired_xyz = cndbTools2.xyz(frames=[10000,30000,step_size], XYZ=[0,1,2])\n",
    "pers_2_paired, unc_2_paired, ensemble_2_avg_paired_cosines = persistence_length_average_uncertainty(sim_2_paired_xyz, bead_size = 5000)"
   ]
  },
  {
   "cell_type": "markdown",
   "id": "5ae51e50",
   "metadata": {},
   "source": [
    "### Sanity Check Plot"
   ]
  },
  {
   "cell_type": "code",
   "execution_count": null,
   "id": "4d9f56d0",
   "metadata": {},
   "outputs": [],
   "source": [
    "# Load unpaired cosines\n",
    "frame_unpaired = sim_1_unpaired_xyz[6]\n",
    "N_beads = len(frame_unpaired)\n",
    "bead_size = 5000 # base pairs\n",
    "ds_unpaired = bead_size * np.array(range(N_beads-1)) # Genomic distances in base pairs\n",
    "frame_cosine_average_array_unpaired = cosine_average_array(frame_unpaired)\n",
    "\n",
    "# unpaired fit\n",
    "chain_length_unpaired = bead_size * (N_beads-1) # Length of the input array's corresponding chain in base pairs\n",
    "fit_x_unpaired = np.linspace(0,chain_length_unpaired,1001)\n",
    "fit_y_unpaired = np.exp(-fit_x_unpaired/pers_1_unpaired)\n",
    "\n",
    "# Load paired cosines\n",
    "frame_paired = sim_2_paired_xyz[0]\n",
    "N_beads = len(frame_paired)\n",
    "bead_size = 5000 # base pairs\n",
    "ds_paired = bead_size * np.array(range(N_beads-1)) # Genomic distances in base pairs\n",
    "frame_cosine_average_array_paired = cosine_average_array(frame_paired)\n",
    "\n",
    "# paired fit\n",
    "chain_length_paired = bead_size * (N_beads-1) # Length of the input array's corresponding chain in base pairs\n",
    "fit_x_paired = np.linspace(0,chain_length_paired,1001)\n",
    "fit_y_paired = np.exp(-fit_x_paired/pers_2_paired)"
   ]
  },
  {
   "cell_type": "code",
   "execution_count": 18,
   "id": "c7a58907",
   "metadata": {},
   "outputs": [
    {
     "data": {
      "image/png": "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",
      "text/plain": [
       "<Figure size 640x480 with 1 Axes>"
      ]
     },
     "metadata": {},
     "output_type": "display_data"
    }
   ],
>>>>>>> f5b3edd32c4ee2f8cc49059762e72b40ed70eb7e
   "source": [
    "# Plot\n",
    "plt.plot(ds_unpaired,frame_cosine_average_array_unpaired,label='sim 1 single structure unpaired cosines')\n",
    "#plt.plot(ds_unpaired,ensemble_1_avg_unpaired_cosines,label='sim 59 multiple structure average unpaired cosines')\n",
    "#plt.plot(fit_x_unpaired,fit_y_unpaired,label='fit_unpaired')\n",
    "\n",
    "plt.plot(ds_paired,frame_cosine_average_array_paired,label='sim 2 single structure paired cosines')\n",
    "#plt.plot(ds_paired,ensemble_2_avg_paired_cosines,label='sim 68 multiple structure average paired cosines')\n",
    "#plt.plot(fit_x_paired,fit_y_paired,label='fit_paired')\n",
    "\n",
    "# Plot settings\n",
    "plt.title('Cosine vs d')\n",
    "plt.xlim(0,30000)\n",
    "plt.xlabel('genomic distance (base pairs)')\n",
    "plt.legend()\n",
    "plt.show()"
   ]
  },
  {
   "cell_type": "code",
   "execution_count": null,
   "id": "ea19e793",
   "metadata": {},
   "outputs": [],
   "source": []
  }
 ],
 "metadata": {
  "kernelspec": {
   "display_name": "Python 3 (ipykernel)",
   "language": "python",
   "name": "python3"
  },
  "language_info": {
   "codemirror_mode": {
    "name": "ipython",
    "version": 3
   },
   "file_extension": ".py",
   "mimetype": "text/x-python",
   "name": "python",
   "nbconvert_exporter": "python",
   "pygments_lexer": "ipython3",
   "version": "3.8.8"
  }
 },
 "nbformat": 4,
 "nbformat_minor": 5
}

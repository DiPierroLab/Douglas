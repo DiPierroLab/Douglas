{
 "cells": [
  {
   "cell_type": "code",
   "execution_count": 1,
   "id": "3abbab9f",
   "metadata": {
    "scrolled": true
   },
   "outputs": [
    {
     "name": "stdout",
     "output_type": "stream",
     "text": [
      "Intel MKL WARNING: Support of Intel(R) Streaming SIMD Extensions 4.2 (Intel(R) SSE4.2) enabled only processors has been deprecated. Intel oneAPI Math Kernel Library 2025.0 will require Intel(R) Advanced Vector Extensions (Intel(R) AVX) instructions.\n",
      "Intel MKL WARNING: Support of Intel(R) Streaming SIMD Extensions 4.2 (Intel(R) SSE4.2) enabled only processors has been deprecated. Intel oneAPI Math Kernel Library 2025.0 will require Intel(R) Advanced Vector Extensions (Intel(R) AVX) instructions.\n"
     ]
    }
   ],
   "source": [
    "from OpenMiChroM.CndbTools import cndbTools\n",
    "import numpy as np\n",
    "from scipy.optimize import curve_fit\n",
    "import matplotlib.pyplot as plt"
   ]
  },
  {
   "cell_type": "code",
   "execution_count": 2,
   "id": "d6612c32",
   "metadata": {},
   "outputs": [],
   "source": [
    "path = '/Users/douglas/Documents/Features Transfer/trajectories/' # path to sample trajectory cndb, ndb, and pdbs files.\n",
    "\n",
    "cndbTools = cndbTools()\n",
    "\n",
    "cndbTools.load(path+'traj_0.cndb')"
   ]
  },
  {
   "cell_type": "code",
   "execution_count": 6,
   "id": "b7fc918c",
   "metadata": {},
   "outputs": [],
   "source": [
    "def cosine_array(frame): # For a given frame, gives the list of cosines of angles to the first bond\n",
    "    cosine_list = []\n",
    "    vec_0 = frame[1] - frame[0] # Displacement vector between the first two beads in the frame\n",
    "    N_beads = len(frame) # Number of beads in the chain input as xyz\n",
    "    for j in range(N_beads-1):\n",
    "        vec_j = frame[j+1] - frame[j] # Displacement vector between the j and j+1 th beads in the frame\n",
    "        cosine_j = np.vdot(vec_0,vec_j)/(np.linalg.norm(vec_0)*np.linalg.norm(vec_j)) # cosine of the angle between vec_0 and vec_j\n",
    "        cosine_list.append(cosine_j)\n",
    "    cosine_array = np.array(cosine_list)\n",
    "    return cosine_array\n",
    "\n",
    "def cosine_average_array(xyz): # Average the cosine_array for each frame in the xyz trajectory\n",
    "    N_beads = len(xyz[0])\n",
    "    N_blocks = len(xyz)\n",
    "    total_cosine_array = np.zeros(N_beads-1)\n",
    "    for i in range(N_blocks):\n",
    "        frame = xyz[i]\n",
    "        frame_cosine_array = cosine_array(frame)\n",
    "        total_cosine_array += frame_cosine_array\n",
    "    total_cosine_array /= N_blocks\n",
    "    return total_cosine_array\n",
    "\n",
    "def decaying_exponential(L, persistence_length):\n",
    "    return np.exp(-L/persistence_length)\n",
    "\n",
    "def persistence_length(cosine_average_array): # Given an array of cosines, fits to a decaying exponential and outputs the length scale\n",
    "    ds = np.array(range(len(cosine_average_array))) # Array of genomic distances along the chromosome fiber from the beginning\n",
    "    initial_guess = (1.0)\n",
    "    popt, pcov = curve_fit(decaying_exponential, ds,cosine_average_array, p0=initial_guess) # Fit the data\n",
    "    persistence_length_opt = popt[0] # Extract the optimized persistence length\n",
    "    return persistence_length_opt"
   ]
  },
  {
   "cell_type": "code",
   "execution_count": 7,
   "id": "512c2c91",
   "metadata": {},
   "outputs": [
    {
     "name": "stdout",
     "output_type": "stream",
     "text": [
      "tight persistence length 1.8650878136340376\n",
      "loose persistence length 1.907171394180237\n"
     ]
    }
   ],
   "source": [
    "cos_tight = cosine_average_array(traj_0_tight)\n",
    "pers_tight = persistence_length(cos_tight)\n",
    "print('tight persistence length',pers_tight)\n",
    "\n",
    "cos_loose = cosine_average_array(traj_0_loose)\n",
    "pers_loose = persistence_length(cos_loose)\n",
    "print('loose persistence length',pers_loose)"
   ]
  },
  {
   "cell_type": "code",
   "execution_count": 8,
   "id": "097cea93",
   "metadata": {},
   "outputs": [
    {
     "data": {
      "image/png": "[encoded data removed]",
      "text/plain": [
       "<Figure size 640x480 with 1 Axes>"
      ]
     },
     "metadata": {},
     "output_type": "display_data"
    }
   ],
   "source": [
    "plt.plot(cos_tight,label='tight')\n",
    "plt.plot(cos_loose,label='loose')\n",
    "plt.xlim(0,5)\n",
    "plt.show()"
   ]
  },
  {
   "cell_type": "code",
   "execution_count": 18,
   "id": "d0269077",
   "metadata": {},
   "outputs": [
    {
     "name": "stdout",
     "output_type": "stream",
     "text": [
      "The persistence length of a tight region is 1.72 +/- 0.09 .\n"
     ]
    }
   ],
   "source": [
    "pers_length_tight_segment_list = []\n",
    "L_0 = 10\n",
    "for i in range(0,1000-L_0,L_0):\n",
    "    tight_segment = cndbTools.xyz(frames=[10000,50000,100], beadSelection=range(i,i+L_0), XYZ=[0,1,2])\n",
    "    cos_tight_segment = cosine_average_array(tight_segment)\n",
    "    pers_tight_segment = persistence_length(cos_tight_segment)\n",
    "    pers_length_tight_segment_list.append(pers_tight_segment)\n",
    "\n",
    "pers_length_tight_array = np.array(pers_length_tight_segment_list)\n",
    "pers_length_tight_average = np.average(pers_length_tight_array)\n",
    "pers_length_tight_std_dev = np.std(pers_length_tight_array)\n",
    "\n",
    "print('The persistence length of a tight region is',round(pers_length_tight_average,1),'+/-',round(pers_length_tight_std_dev,1),'.')"
   ]
  },
  {
   "cell_type": "code",
   "execution_count": 19,
   "id": "7df03b46",
   "metadata": {},
   "outputs": [
    {
     "name": "stdout",
     "output_type": "stream",
     "text": [
      "The persistence length of a loose region is 1.67 +/- 0.1 .\n"
     ]
    }
   ],
   "source": [
    "pers_length_loose_segment_list = []\n",
    "L_0 = 10\n",
    "for i in range(1000,1500-L_0,L_0):\n",
    "    loose_segment = cndbTools.xyz(frames=[10000,50000,100], beadSelection=range(i,i+L_0), XYZ=[0,1,2])\n",
    "    cos_loose_segment = cosine_average_array(loose_segment)\n",
    "    pers_loose_segment = persistence_length(cos_loose_segment)\n",
    "    pers_length_loose_segment_list.append(pers_loose_segment)\n",
    "\n",
    "pers_length_loose_array = np.array(pers_length_loose_segment_list)\n",
    "pers_length_loose_average = np.average(pers_length_loose_array)\n",
    "pers_length_loose_std_dev = np.std(pers_length_loose_array)\n",
    "\n",
    "print('The persistence length of a loose region is',round(pers_length_loose_average,1),'+/-',round(pers_length_loose_std_dev,1),'.')"
   ]
  },
  {
   "cell_type": "code",
   "execution_count": null,
   "id": "6ed08323",
   "metadata": {},
   "outputs": [],
   "source": []
  }
 ],
 "metadata": {
  "kernelspec": {
   "display_name": "Python 3 (ipykernel)",
   "language": "python",
   "name": "python3"
  },
  "language_info": {
   "codemirror_mode": {
    "name": "ipython",
    "version": 3
   },
   "file_extension": ".py",
   "mimetype": "text/x-python",
   "name": "python",
   "nbconvert_exporter": "python",
   "pygments_lexer": "ipython3",
   "version": "3.9.18"
  }
 },
 "nbformat": 4,
 "nbformat_minor": 5
}

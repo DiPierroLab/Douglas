{
 "cells": [
  {
   "cell_type": "code",
   "execution_count": 1,
   "id": "b60fd24a",
   "metadata": {},
   "outputs": [
    {
     "name": "stdout",
     "output_type": "stream",
     "text": [
      "Intel MKL WARNING: Support of Intel(R) Streaming SIMD Extensions 4.2 (Intel(R) SSE4.2) enabled only processors has been deprecated. Intel oneAPI Math Kernel Library 2025.0 will require Intel(R) Advanced Vector Extensions (Intel(R) AVX) instructions.\n",
      "Intel MKL WARNING: Support of Intel(R) Streaming SIMD Extensions 4.2 (Intel(R) SSE4.2) enabled only processors has been deprecated. Intel oneAPI Math Kernel Library 2025.0 will require Intel(R) Advanced Vector Extensions (Intel(R) AVX) instructions.\n"
     ]
    }
   ],
   "source": [
    "from OpenMiChroM.CndbTools import cndbTools\n",
    "import matplotlib.pyplot as plt\n",
    "import matplotlib as mpl"
   ]
  },
  {
   "cell_type": "code",
   "execution_count": 3,
   "id": "cc369016",
   "metadata": {},
   "outputs": [
    {
     "ename": "TypeError",
     "evalue": "'cndbTools' object is not callable",
     "output_type": "error",
     "traceback": [
      "\u001b[0;31m---------------------------------------------------------------------------\u001b[0m",
      "\u001b[0;31mTypeError\u001b[0m                                 Traceback (most recent call last)",
      "Cell \u001b[0;32mIn[3], line 3\u001b[0m\n\u001b[1;32m      1\u001b[0m path \u001b[38;5;241m=\u001b[39m \u001b[38;5;124m'\u001b[39m\u001b[38;5;124m/Users/douglas/Documents/Features Transfer/trajectories/\u001b[39m\u001b[38;5;124m'\u001b[39m \u001b[38;5;66;03m# path to sample trajectory cndb, ndb, and pdbs files.\u001b[39;00m\n\u001b[0;32m----> 3\u001b[0m cndbTools \u001b[38;5;241m=\u001b[39m \u001b[43mcndbTools\u001b[49m\u001b[43m(\u001b[49m\u001b[43m)\u001b[49m\n\u001b[1;32m      4\u001b[0m traj_0 \u001b[38;5;241m=\u001b[39m cndbTools\u001b[38;5;241m.\u001b[39mload(path\u001b[38;5;241m+\u001b[39m\u001b[38;5;124m'\u001b[39m\u001b[38;5;124mtraj_0.cndb\u001b[39m\u001b[38;5;124m'\u001b[39m)\n\u001b[1;32m      5\u001b[0m \u001b[38;5;28mprint\u001b[39m(traj_0) \u001b[38;5;66;03m# Print the information of the cndb trajectory.\u001b[39;00m\n",
      "\u001b[0;31mTypeError\u001b[0m: 'cndbTools' object is not callable"
     ]
    }
   ],
   "source": [
    "path = '/Users/douglas/Documents/Features Transfer/trajectories/' # path to sample trajectory cndb, ndb, and pdbs files.\n",
    "\n",
    "cndbTools = cndbTools()\n",
    "traj_0 = cndbTools.load(path+'traj_0.cndb')\n",
    "print(traj_0) # Print the information of the cndb trajectory.\n",
    "traj_0_xyz = cndbTools.xyz(frames=[1,50000,100], XYZ=[0,1,2]) # Extract the loci XYZ position over the simulated frames and save in the variable traj_0_xyz"
   ]
  },
  {
   "cell_type": "code",
   "execution_count": null,
   "id": "16ea729c",
   "metadata": {},
   "outputs": [],
   "source": [
    "chr10_RG = cndbTools.compute_RG(chr10_xyz)\n",
    "plt.plot(chr10_RG)\n",
    "plt.ylabel(r'Radius of Gyration ($\\sigma$)',fontsize=11)\n",
    "plt.xlabel(r'Simulation Frames',fontsize=11)"
   ]
  }
 ],
 "metadata": {
  "kernelspec": {
   "display_name": "Python 3 (ipykernel)",
   "language": "python",
   "name": "python3"
  },
  "language_info": {
   "codemirror_mode": {
    "name": "ipython",
    "version": 3
   },
   "file_extension": ".py",
   "mimetype": "text/x-python",
   "name": "python",
   "nbconvert_exporter": "python",
   "pygments_lexer": "ipython3",
   "version": "3.9.18"
  }
 },
 "nbformat": 4,
 "nbformat_minor": 5
}

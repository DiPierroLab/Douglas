{
 "cells": [
  {
   "cell_type": "code",
   "execution_count": 1,
   "id": "3abbab9f",
   "metadata": {
    "scrolled": true,
    "tags": []
   },
   "outputs": [
    {
     "ename": "ModuleNotFoundError",
     "evalue": "No module named 'OpenMiChroM'",
     "output_type": "error",
     "traceback": [
      "\u001b[0;31m---------------------------------------------------------------------------\u001b[0m",
      "\u001b[0;31mModuleNotFoundError\u001b[0m                       Traceback (most recent call last)",
      "\u001b[0;32m<ipython-input-1-1e1f1abf66fa>\u001b[0m in \u001b[0;36m<module>\u001b[0;34m\u001b[0m\n\u001b[0;32m----> 1\u001b[0;31m \u001b[0;32mfrom\u001b[0m \u001b[0mOpenMiChroM\u001b[0m\u001b[0;34m.\u001b[0m\u001b[0mCndbTools\u001b[0m \u001b[0;32mimport\u001b[0m \u001b[0mcndbTools\u001b[0m\u001b[0;34m\u001b[0m\u001b[0;34m\u001b[0m\u001b[0m\n\u001b[0m\u001b[1;32m      2\u001b[0m \u001b[0;32mimport\u001b[0m \u001b[0mnumpy\u001b[0m \u001b[0;32mas\u001b[0m \u001b[0mnp\u001b[0m\u001b[0;34m\u001b[0m\u001b[0;34m\u001b[0m\u001b[0m\n\u001b[1;32m      3\u001b[0m \u001b[0;32mfrom\u001b[0m \u001b[0mscipy\u001b[0m\u001b[0;34m.\u001b[0m\u001b[0moptimize\u001b[0m \u001b[0;32mimport\u001b[0m \u001b[0mcurve_fit\u001b[0m\u001b[0;34m\u001b[0m\u001b[0;34m\u001b[0m\u001b[0m\n\u001b[1;32m      4\u001b[0m \u001b[0;32mimport\u001b[0m \u001b[0mmatplotlib\u001b[0m\u001b[0;34m.\u001b[0m\u001b[0mpyplot\u001b[0m \u001b[0;32mas\u001b[0m \u001b[0mplt\u001b[0m\u001b[0;34m\u001b[0m\u001b[0;34m\u001b[0m\u001b[0m\n",
      "\u001b[0;31mModuleNotFoundError\u001b[0m: No module named 'OpenMiChroM'"
     ]
    }
   ],
   "source": [
    "from OpenMiChroM.CndbTools import cndbTools\n",
    "import numpy as np\n",
    "from scipy.optimize import curve_fit\n",
    "import matplotlib.pyplot as plt"
   ]
  },
  {
   "cell_type": "code",
   "execution_count": null,
   "id": "b7fc918c",
   "metadata": {},
   "outputs": [],
   "source": [
    "def cosine_array(frame): # For a given frame, gives the list of cosines of angles to the first bond\n",
    "    cosine_list = []\n",
    "    vec_0 = frame[1] - frame[0] # Displacement vector between the first two beads in the frame\n",
    "    N_beads = len(frame) # Number of beads in the chain input as xyz\n",
    "    for j in range(N_beads-1):\n",
    "        vec_j = frame[j+1] - frame[j] # Displacement vector between the j and j+1 th beads in the frame\n",
    "        cosine_j = np.vdot(vec_0,vec_j)/(np.linalg.norm(vec_0)*np.linalg.norm(vec_j)) # cosine of the angle between vec_0 and vec_j\n",
    "        cosine_list.append(cosine_j)\n",
    "    cosine_array = np.array(cosine_list)\n",
    "    return cosine_array\n",
    "\n",
    "def cosine_average_array(xyz): # Average the cosine_array for each frame in the xyz trajectory\n",
    "    N_beads = len(xyz[0])\n",
    "    N_blocks = len(xyz)\n",
    "    total_cosine_array = np.zeros(N_beads-1)\n",
    "    for i in range(N_blocks):\n",
    "        frame = xyz[i]\n",
    "        frame_cosine_array = cosine_array(frame)\n",
    "        total_cosine_array += frame_cosine_array\n",
    "    total_cosine_array /= N_blocks\n",
    "    return total_cosine_array\n",
    "\n",
    "def decaying_exponential(L, persistence_length):\n",
    "    return np.exp(-L/persistence_length)\n",
    "\n",
    "def persistence_length(cosine_average_array): # Given an array of cosines, fits to a decaying exponential and outputs the length scale\n",
    "    bead_size = 500 # base pairs\n",
    "    N_bead = len(cosine_average_array) # Number of entries in the cosine array\n",
    "    ds = bead_size * np.array(range(N_bead)) # Genomic distances in base pairs\n",
    "    initial_guess = (500.0)\n",
    "    popt, pcov = curve_fit(decaying_exponential, ds,cosine_average_array, p0=initial_guess) # Fit the data\n",
    "    persistence_length_opt = popt[0] # Extract optimized persistence length\n",
    "    return persistence_length_opt"
   ]
  },
  {
   "cell_type": "code",
   "execution_count": null,
   "id": "3a9d6d82-178f-41f0-b699-299d22bf64d6",
   "metadata": {},
   "outputs": [],
   "source": [
    "cndbTools = cndbTools()\n",
    "\n",
    "cndbTools.load('/scratch/white.do/Pairing/directory_59/part_2/traj_0.cndb')"
   ]
  },
  {
   "cell_type": "code",
   "execution_count": null,
   "id": "be8b1c2f",
   "metadata": {},
   "outputs": [],
   "source": [
    "pers_length_tight_segment_list = []\n",
    "L_0 = 10\n",
    "for i in range(0,1000-L_0):\n",
    "    tight_segment = cndbTools.xyz(frames=[10000,30000,100], beadSelection=range(i,i+L_0), XYZ=[0,1,2])\n",
    "    cos_tight_segment = cosine_average_array(tight_segment)\n",
    "    pers_tight_segment = persistence_length(cos_tight_segment)\n",
    "    pers_length_tight_segment_list.append(pers_tight_segment)\n",
    "\n",
    "pers_length_tight_array = np.array(pers_length_tight_segment_list)\n",
    "pers_length_tight_average = np.average(pers_length_tight_array)\n",
    "pers_length_tight_std_dev = np.std(pers_length_tight_array)\n",
    "\n",
    "print('The persistence length of a tight region is',round(pers_length_tight_average),'+/-',round(pers_length_tight_std_dev),' base pairs.')\n",
    "\n",
    "# Plot sample persistence length fit as sanity check\n",
    "bead_size = 500 # base pairs\n",
    "N_bead = len(cos_tight_segment) # Number of entries in the cosine array\n",
    "chain_length = bead_size * N_bead # Length of the input array's corresponding chain in base pairs\n",
    "\n",
    "ds = bead_size * np.array(range(N_bead)) # Genomic distances in base pairs\n",
    "fit_x = np.linspace(0,chain_length,101)\n",
    "fit_y = np.exp(-fit_x/pers_tight_segment)\n",
    "\n",
    "plt.plot(fit_x,fit_y,label='fit')\n",
    "plt.plot(ds,cos_tight_segment,label='ensemble average cosine')\n",
    "plt.title('Tight')\n",
    "plt.xlabel('genomic distance (base pairs)')\n",
    "plt.legend()\n",
    "plt.show()"
   ]
  },
  {
   "cell_type": "code",
   "execution_count": null,
   "id": "470f5cd1",
   "metadata": {},
   "outputs": [],
   "source": [
    "pers_length_loose_segment_list = []\n",
    "L_0 = 10\n",
    "for i in range(1000,1500-L_0):\n",
    "    loose_segment = cndbTools.xyz(frames=[10000,30000,100], beadSelection=range(i,i+L_0), XYZ=[0,1,2])\n",
    "    cos_loose_segment = cosine_average_array(loose_segment)\n",
    "    pers_loose_segment = persistence_length(cos_loose_segment)\n",
    "    pers_length_loose_segment_list.append(pers_loose_segment)\n",
    "\n",
    "pers_length_loose_array = np.array(pers_length_loose_segment_list)\n",
    "pers_length_loose_average = np.average(pers_length_loose_array)\n",
    "pers_length_loose_std_dev = np.std(pers_length_loose_array)\n",
    "\n",
    "print('The persistence length of a loose region is',round(pers_length_loose_average),'+/-',round(pers_length_loose_std_dev),' base pairs.')\n",
    "\n",
    "# Plot sample persistence length fit as sanity check\n",
    "bead_size = 500 # base pairs\n",
    "N_bead = len(cos_loose_segment) # Number of entries in the cosine array\n",
    "chain_length = bead_size * N_bead # Length of the input array's corresponding chain in base pairs\n",
    "\n",
    "ds = bead_size * np.array(range(N_bead)) # Genomic distances in base pairs\n",
    "fit_x = np.linspace(0,chain_length,101)\n",
    "fit_y = np.exp(-fit_x/pers_loose_segment)\n",
    "\n",
    "plt.plot(fit_x,fit_y,label='fit')\n",
    "plt.plot(ds,cos_loose_segment,label='ensemble average cosine')\n",
    "plt.title('Loose')\n",
    "plt.xlabel('genomic distance (base pairs)')\n",
    "plt.legend()\n",
    "plt.show()"
   ]
  },
  {
   "cell_type": "code",
   "execution_count": null,
   "id": "42435e82",
   "metadata": {},
   "outputs": [],
   "source": []
  }
 ],
 "metadata": {
  "kernelspec": {
   "display_name": "Python 3",
   "language": "python",
   "name": "python3"
  },
  "language_info": {
   "codemirror_mode": {
    "name": "ipython",
    "version": 3
   },
   "file_extension": ".py",
   "mimetype": "text/x-python",
   "name": "python",
   "nbconvert_exporter": "python",
   "pygments_lexer": "ipython3",
   "version": "3.8.8"
  }
 },
 "nbformat": 4,
 "nbformat_minor": 5
}

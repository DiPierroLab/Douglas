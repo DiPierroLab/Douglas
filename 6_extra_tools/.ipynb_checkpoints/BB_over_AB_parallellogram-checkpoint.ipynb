{
 "cells": [
  {
   "cell_type": "markdown",
   "id": "cd71582d-0bc9-4df3-9084-2f7bb22cd7fe",
   "metadata": {},
   "source": [
    "This code calculates the average contact frequency in both BB and AB interactions in trans within a parallelogram shaped region (to weight genomic distances the same for AB and BB interactions)."
   ]
  },
  {
   "cell_type": "code",
   "execution_count": 11,
   "id": "e4c54671-0a01-4861-87d2-5951d7ad2aee",
   "metadata": {},
   "outputs": [
    {
     "ename": "ModuleNotFoundError",
     "evalue": "No module named 'matplotlab'",
     "output_type": "error",
     "traceback": [
      "\u001b[0;31m---------------------------------------------------------------------------\u001b[0m",
      "\u001b[0;31mModuleNotFoundError\u001b[0m                       Traceback (most recent call last)",
      "\u001b[0;32m<ipython-input-11-80417a35ed66>\u001b[0m in \u001b[0;36m<module>\u001b[0;34m\u001b[0m\n\u001b[1;32m      1\u001b[0m \u001b[0;32mimport\u001b[0m \u001b[0mnumpy\u001b[0m \u001b[0;32mas\u001b[0m \u001b[0mnp\u001b[0m\u001b[0;34m\u001b[0m\u001b[0;34m\u001b[0m\u001b[0m\n\u001b[0;32m----> 2\u001b[0;31m \u001b[0;32mimport\u001b[0m \u001b[0mmatplotlab\u001b[0m\u001b[0;34m.\u001b[0m\u001b[0mpyplot\u001b[0m \u001b[0;32mas\u001b[0m \u001b[0mplt\u001b[0m\u001b[0;34m\u001b[0m\u001b[0;34m\u001b[0m\u001b[0m\n\u001b[0m",
      "\u001b[0;31mModuleNotFoundError\u001b[0m: No module named 'matplotlab'"
     ]
    }
   ],
   "source": [
    "import numpy as np\n",
    "import matplotlab.pyplot as plt"
   ]
  },
  {
   "cell_type": "code",
   "execution_count": 2,
   "id": "754bb4fe-6616-47a6-830d-caaa659db0bb",
   "metadata": {},
   "outputs": [],
   "source": [
    "# With pairing\n",
    "M_423 = np.loadtxt('/work/dipierrolab/douglas/final_Hi-C_maps/Hi-C_directory_423.txt')\n",
    "\n",
    "# Without pairing\n",
    "M_425 = np.loadtxt('/work/dipierrolab/douglas/final_Hi-C_maps/Hi-C_directory_425.txt')"
   ]
  },
  {
   "cell_type": "code",
   "execution_count": 5,
   "id": "04e1b3d7-6b58-4844-839c-81261bdbc3cf",
   "metadata": {},
   "outputs": [
    {
     "data": {
      "text/plain": [
       "4375.0"
      ]
     },
     "execution_count": 5,
     "metadata": {},
     "output_type": "execute_result"
    }
   ],
   "source": [
    "5000-2500/4"
   ]
  },
  {
   "cell_type": "code",
   "execution_count": 10,
   "id": "fec43d70-bbad-4c04-bc46-ffb8540694ef",
   "metadata": {},
   "outputs": [
    {
     "name": "stdout",
     "output_type": "stream",
     "text": [
      "AB with pairing = 0.0\n"
     ]
    },
    {
     "ename": "NameError",
     "evalue": "name 'plt' is not defined",
     "output_type": "error",
     "traceback": [
      "\u001b[0;31m---------------------------------------------------------------------------\u001b[0m",
      "\u001b[0;31mNameError\u001b[0m                                 Traceback (most recent call last)",
      "\u001b[0;32m<ipython-input-10-e8889d56e76a>\u001b[0m in \u001b[0;36m<module>\u001b[0;34m\u001b[0m\n\u001b[1;32m      8\u001b[0m \u001b[0mavg_423_AB\u001b[0m \u001b[0;34m=\u001b[0m \u001b[0mtotal_423_AB\u001b[0m\u001b[0;34m/\u001b[0m\u001b[0mcounter_423_AB\u001b[0m\u001b[0;34m\u001b[0m\u001b[0;34m\u001b[0m\u001b[0m\n\u001b[1;32m      9\u001b[0m \u001b[0mprint\u001b[0m\u001b[0;34m(\u001b[0m\u001b[0;34m'AB with pairing ='\u001b[0m\u001b[0;34m,\u001b[0m\u001b[0mavg_423_AB\u001b[0m\u001b[0;34m)\u001b[0m\u001b[0;34m\u001b[0m\u001b[0;34m\u001b[0m\u001b[0m\n\u001b[0;32m---> 10\u001b[0;31m \u001b[0mplt\u001b[0m\u001b[0;34m.\u001b[0m\u001b[0mmatshow\u001b[0m\u001b[0;34m(\u001b[0m\u001b[0mM_423\u001b[0m\u001b[0;34m)\u001b[0m\u001b[0;34m\u001b[0m\u001b[0;34m\u001b[0m\u001b[0m\n\u001b[0m",
      "\u001b[0;31mNameError\u001b[0m: name 'plt' is not defined"
     ]
    }
   ],
   "source": [
    "total_423_AB = 0\n",
    "counter_423_AB = 0\n",
    "for i in range(0,625):\n",
    "    for j in range(4375,4375+i):\n",
    "        total_423_AB += M_423[i,j]\n",
    "        counter_423_AB += 1\n",
    "        M_423[i,j] = 0\n",
    "avg_423_AB = total_423_AB/counter_423_AB\n",
    "print('AB with pairing =',avg_423_AB)\n",
    "plt.matshow(M_423)"
   ]
  },
  {
   "cell_type": "code",
   "execution_count": null,
   "id": "131ed1cb-c8b7-4549-b31f-9b14a631460d",
   "metadata": {},
   "outputs": [],
   "source": []
  }
 ],
 "metadata": {
  "kernelspec": {
   "display_name": "Python 3",
   "language": "python",
   "name": "python3"
  },
  "language_info": {
   "codemirror_mode": {
    "name": "ipython",
    "version": 3
   },
   "file_extension": ".py",
   "mimetype": "text/x-python",
   "name": "python",
   "nbconvert_exporter": "python",
   "pygments_lexer": "ipython3",
   "version": "3.8.8"
  }
 },
 "nbformat": 4,
 "nbformat_minor": 5
}

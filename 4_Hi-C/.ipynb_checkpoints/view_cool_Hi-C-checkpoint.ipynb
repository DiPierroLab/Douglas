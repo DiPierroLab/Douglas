{
 "cells": [
  {
   "cell_type": "markdown",
   "metadata": {
    "ExecuteTime": {
     "end_time": "2019-02-23T03:56:34.662662Z",
     "start_time": "2019-02-23T03:56:34.309505Z"
    }
   },
   "source": [
    "This notebook helps view Hi-C files in the .cool format. \n",
    "\n",
    "It is based on cooler_api.ipynb on the open2c github: \n",
    "\n",
    "https://github.com/open2c/cooler-binder/blob/master/cooler_api.ipynb"
   ]
  },
  {
   "cell_type": "code",
   "execution_count": null,
   "metadata": {
    "ExecuteTime": {
     "end_time": "2019-02-23T03:56:34.662662Z",
     "start_time": "2019-02-23T03:56:34.309505Z"
    }
   },
   "outputs": [],
   "source": [
    "import os.path as op\n",
    "import matplotlib.pyplot as plt\n",
    "import numpy as np\n",
    "import pandas\n",
    "import h5py\n",
    "import matplotlib as mpl\n",
    "import ipywidgets as widgets\n",
    "\n",
    "import cooler"
   ]
  },
  {
   "cell_type": "code",
   "execution_count": null,
   "metadata": {
    "ExecuteTime": {
     "end_time": "2019-02-23T03:56:34.662662Z",
     "start_time": "2019-02-23T03:56:34.309505Z"
    }
   },
   "outputs": [],
   "source": [
    "# activate inline plotting\n",
    "%matplotlib inline"
   ]
  },
  {
   "cell_type": "markdown",
   "metadata": {},
   "source": [
    "### Load 50kb PnM Hi-C Map"
   ]
  },
  {
   "cell_type": "code",
   "execution_count": null,
   "metadata": {
    "ExecuteTime": {
     "end_time": "2019-02-23T03:56:34.680090Z",
     "start_time": "2019-02-23T03:56:34.675373Z"
    }
   },
   "outputs": [],
   "source": [
    "#50000 selects 50kb resolution.\n",
    "filepath_50kb = '/Users/douglas/Documents/Features Transfer/store Hi-C/JJ10_11_17_18.wo3kbCisTransHom.50000.cool'\n",
    "c_50kb = cooler.Cooler(filepath_50kb)"
   ]
  },
  {
   "cell_type": "markdown",
   "metadata": {},
   "source": [
    "### Tables About 50kb PnM Hi-C Map"
   ]
  },
  {
   "cell_type": "code",
   "execution_count": null,
   "metadata": {
    "ExecuteTime": {
     "end_time": "2019-02-23T03:56:34.807695Z",
     "start_time": "2019-02-23T03:56:34.793759Z"
    }
   },
   "outputs": [],
   "source": [
    "# 057 = maternal\n",
    "# 439 = paternal\n",
    "# length units are base pairs\n",
    "df = c_50kb.chroms()[:] #df stands for (pandas) data frame\n",
    "total_length_bp = df['length'].sum()#Total number of base pairs in the PnM Hi-C map\n",
    "total_bins = c_50kb.extent(df['name'].iloc[-1])[-1] #Total number of bins in the PnM Hi-C map.\n",
    "print('Total base pairs in Hi-C map: ',total_length_bp)\n",
    "print('Total bins in Hi-C map:       ',total_bins)\n",
    "print('Total base pairs/total bins:  ', total_length_bp/total_bins)\n",
    "print('')\n",
    "print('057 = maternal; 439 = paternal')\n",
    "print('')\n",
    "print(df)\n",
    "\n",
    "print('')\n",
    "for name in c_50kb.chromnames:\n",
    "    print(name,'   ', c_50kb.extent(name))\n",
    "    \n",
    "#name    (start_index, stop_index)"
   ]
  },
  {
   "cell_type": "markdown",
   "metadata": {},
   "source": [
    "### Full 50kb PnM Hi-C Map"
   ]
  },
  {
   "cell_type": "code",
   "execution_count": null,
   "metadata": {
    "ExecuteTime": {
     "end_time": "2019-02-23T03:56:35.498319Z",
     "start_time": "2019-02-23T03:56:35.429311Z"
    }
   },
   "outputs": [],
   "source": [
    "c_50kb.matrix()\n",
    "arr = c_50kb.matrix(balance=False)[0:total_bins, 0:total_bins]\n",
    "mat = c_50kb.matrix(balance=False, sparse=True)[0:total_bins, 0:total_bins]\n",
    "arr = mat.toarray()#fill in lower triangle\n",
    "\n",
    "fig = plt.figure(figsize=(10, 10))\n",
    "ax = fig.add_subplot(111)\n",
    "im = ax.matshow(np.log10(arr), cmap='YlOrRd')\n",
    "\n",
    "fig.colorbar(im)"
   ]
  },
  {
   "cell_type": "markdown",
   "metadata": {},
   "source": [
    "### Chr2 Trans 50kb PnM Hi-C Diagonal"
   ]
  },
  {
   "cell_type": "code",
   "execution_count": null,
   "metadata": {},
   "outputs": [],
   "source": [
    "# Explore the chr2 50kb trans Hi-C diagonal.\n",
    "\n",
    "chr2_bin_max = c_50kb.extent(df['name'].iloc[1])[-1] # the last bin of both chr2 maternal and chr2 paternal\n",
    "print('chr2 bins',chr2_bin_max)\n",
    "\n",
    "kb_scale = 2500 #the number of kilo base pairs to view along the trans diagonal.\n",
    "d_0 = round(kb_scale/50) #bins along diagonal of Hi-C map close-up.\n",
    "\n",
    "@widgets.interact #Refreshes d_window_min and kb_scale with sliders\n",
    "\n",
    "\n",
    "def close_HiC(d_window_min = (0,chr2_bin_max-d_0)):\n",
    "    #Pat=439 varies by row, Mat=057 varies by column.\n",
    "    arr2 = c_50kb.matrix(balance=False)[chr2_bin_max+d_window_min:chr2_bin_max+d_0+d_window_min,d_window_min:d_0+d_window_min]\n",
    "    mat2 = c_50kb.matrix(balance=False, sparse=True)[chr2_bin_max+d_window_min:chr2_bin_max+d_0+d_window_min,d_window_min:d_0+d_window_min]\n",
    "    arr2 = mat2.toarray()#fill in lower triangle\n",
    "    fig2 = plt.figure(figsize=(10, 10))\n",
    "    ax2 = fig2.add_subplot(111)\n",
    "    im2 = ax2.matshow(np.log10(arr2), cmap='YlOrRd')\n",
    "    fig2.colorbar(im2)"
   ]
  },
  {
   "cell_type": "markdown",
   "metadata": {},
   "source": [
    "### Load 1kb PnM Hi-C Map"
   ]
  },
  {
   "cell_type": "code",
   "execution_count": null,
   "metadata": {
    "ExecuteTime": {
     "end_time": "2019-02-23T03:56:34.680090Z",
     "start_time": "2019-02-23T03:56:34.675373Z"
    }
   },
   "outputs": [],
   "source": [
    "#50000 selects 1kb resolution.\n",
    "filepath_1kb = '/Users/douglas/Documents/Features Transfer/store Hi-C/JJ10_11_17_18.wo3kbCisTransHom.1000.cool'\n",
    "c_1kb = cooler.Cooler(filepath_1kb)"
   ]
  },
  {
   "cell_type": "markdown",
   "metadata": {},
   "source": [
    "### Tables About 1kb PnM Hi-C Map"
   ]
  },
  {
   "cell_type": "code",
   "execution_count": null,
   "metadata": {
    "ExecuteTime": {
     "end_time": "2019-02-23T03:56:34.807695Z",
     "start_time": "2019-02-23T03:56:34.793759Z"
    }
   },
   "outputs": [],
   "source": [
    "# 057 = maternal\n",
    "# 439 = paternal\n",
    "# length units are base pairs\n",
    "df = c_1kb.chroms()[:] #df stands for (pandas) data frame\n",
    "total_length_bp = df['length'].sum()#Total number of base pairs in the PnM Hi-C map\n",
    "total_bins = c_1kb.extent(df['name'].iloc[-1])[-1] #Total number of bins in the PnM Hi-C map.\n",
    "print('Total base pairs in Hi-C map: ',total_length_bp)\n",
    "print('Total bins in Hi-C map:       ',total_bins)\n",
    "print('Total base pairs/total bins:  ', total_length_bp/total_bins)\n",
    "print('')\n",
    "print('057 = maternal; 439 = paternal')\n",
    "print('')\n",
    "print(df)\n",
    "\n",
    "print('')\n",
    "for name in c_1kb.chromnames:\n",
    "    print(name,'   ', c_1kb.extent(name))\n",
    "    \n",
    "#name    (start_index, stop_index)"
   ]
  },
  {
   "cell_type": "markdown",
   "metadata": {},
   "source": [
    "### Full 1kb PnM Hi-C Map"
   ]
  },
  {
   "cell_type": "code",
   "execution_count": null,
   "metadata": {
    "ExecuteTime": {
     "end_time": "2019-02-23T03:56:35.498319Z",
     "start_time": "2019-02-23T03:56:35.429311Z"
    }
   },
   "outputs": [],
   "source": [
    "c_1kb.matrix()\n",
    "arr = c_1kb.matrix(balance=False)[0:total_bins, 0:total_bins]\n",
    "mat = c_1kb.matrix(balance=False, sparse=True)[0:total_bins, 0:total_bins]\n",
    "arr = mat.toarray()#fill in lower triangle\n",
    "\n",
    "fig = plt.figure(figsize=(10, 10))\n",
    "ax = fig.add_subplot(111)\n",
    "im = ax.matshow(np.log10(arr), cmap='YlOrRd')\n",
    "\n",
    "fig.colorbar(im)"
   ]
  },
  {
   "cell_type": "markdown",
   "metadata": {},
   "source": [
    "### Chr2 Trans 1kb PnM Hi-C Diagonal"
   ]
  },
  {
   "cell_type": "code",
   "execution_count": null,
   "metadata": {},
   "outputs": [],
   "source": [
    "# Explore the chr2 1kb trans Hi-C diagonal.\n",
    "\n",
    "chr2_bin_max = c_1kb.extent(df['name'].iloc[1])[-1] # the last bin of both chr2 maternal and chr2 paternal\n",
    "print('chr2 bins',chr2_bin_max)\n",
    "\n",
    "kb_scale = 2500 #the number of kilo base pairs to view along the trans diagonal.\n",
    "d_0 = round(kb_scale/50) #bins along diagonal of Hi-C map close-up.\n",
    "\n",
    "@widgets.interact #Refreshes d_window_min and kb_scale with sliders\n",
    "\n",
    "\n",
    "def close_HiC(d_window_min = (0,chr2_bin_max-d_0)):\n",
    "    #Pat=439 varies by row, Mat=057 varies by column.\n",
    "    arr2 = c_1kb.matrix(balance=False)[chr2_bin_max+d_window_min:chr2_bin_max+d_0+d_window_min,d_window_min:d_0+d_window_min]\n",
    "    mat2 = c_1kb.matrix(balance=False, sparse=True)[chr2_bin_max+d_window_min:chr2_bin_max+d_0+d_window_min,d_window_min:d_0+d_window_min]\n",
    "    arr2 = mat2.toarray()#fill in lower triangle\n",
    "    fig2 = plt.figure(figsize=(10, 10))\n",
    "    ax2 = fig2.add_subplot(111)\n",
    "    im2 = ax2.matshow(np.log10(arr2), cmap='YlOrRd')\n",
    "    fig2.colorbar(im2)"
   ]
  },
  {
   "cell_type": "markdown",
   "metadata": {},
   "source": [
    "<font color='white'>\n",
    "# Filler Text to Prevent Annoying Scrolling Behavior When Above Cell Refreshes.\n",
    "a <br>\n",
    "a <br>\n",
    "a <br>\n",
    "a <br>\n",
    "a <br>\n",
    "a <br>\n",
    "a <br>\n",
    "a <br>\n",
    "a <br>\n",
    "a <br>\n",
    "a <br>\n",
    "a <br>\n",
    "a <br>\n",
    "a <br>\n",
    "a <br>\n",
    "a <br>\n",
    "a <br>\n",
    "a <br>\n",
    "a <br>\n",
    "a <br>\n",
    "a <br>\n",
    "a <br>\n",
    "a <br>\n",
    "a <br>\n",
    "a <br>\n",
    "a <br>\n",
    "a <br>\n",
    "a <br>\n",
    "a <br>\n",
    "a <br>\n",
    "a <br>\n",
    "a <br>\n",
    "a <br>\n",
    "a <br>\n",
    "a <br>\n",
    "a <br>\n",
    "a <br>\n",
    "a <br>\n",
    "a <br>\n",
    "a <br>\n",
    "a <br>\n",
    "a <br>\n",
    "a <br>\n",
    "a <br>\n",
    "a <br>\n",
    "a <br>\n",
    "a <br>\n",
    "a <br>\n",
    "a <br>\n",
    "a <br>\n",
    "a <br>\n",
    "a <br>\n",
    "a <br>\n",
    "a <br>\n",
    "a <br>\n",
    "a <br>\n",
    "a <br>\n",
    "a <br>\n",
    "a <br>\n",
    "a <br>\n",
    "</font>"
   ]
  },
  {
   "cell_type": "code",
   "execution_count": null,
   "metadata": {},
   "outputs": [],
   "source": []
  }
 ],
 "metadata": {
  "kernelspec": {
   "display_name": "Python 3 (ipykernel)",
   "language": "python",
   "name": "python3"
  },
  "language_info": {
   "codemirror_mode": {
    "name": "ipython",
    "version": 3
   },
   "file_extension": ".py",
   "mimetype": "text/x-python",
   "name": "python",
   "nbconvert_exporter": "python",
   "pygments_lexer": "ipython3",
   "version": "3.9.13"
  },
  "toc": {
   "base_numbering": 1,
   "nav_menu": {},
   "number_sections": true,
   "sideBar": true,
   "skip_h1_title": false,
   "title_cell": "Table of Contents",
   "title_sidebar": "Contents",
   "toc_cell": true,
   "toc_position": {},
   "toc_section_display": "block",
   "toc_window_display": true
  }
 },
 "nbformat": 4,
 "nbformat_minor": 2
}

{
 "cells": [
  {
   "cell_type": "markdown",
   "id": "8ba30171",
   "metadata": {},
   "source": [
    "#### This code was copied and pasted from https://cooltools.readthedocs.io/en/latest/notebooks/dots.html#Load-data-and-define-a-genomic-view and then edited  by Douglas"
   ]
  },
  {
   "cell_type": "code",
   "execution_count": 1,
   "id": "2e755d3e",
   "metadata": {},
   "outputs": [
    {
     "name": "stdout",
     "output_type": "stream",
     "text": [
      "Intel MKL WARNING: Support of Intel(R) Streaming SIMD Extensions 4.2 (Intel(R) SSE4.2) enabled only processors has been deprecated. Intel oneAPI Math Kernel Library 2025.0 will require Intel(R) Advanced Vector Extensions (Intel(R) AVX) instructions.\n",
      "Intel MKL WARNING: Support of Intel(R) Streaming SIMD Extensions 4.2 (Intel(R) SSE4.2) enabled only processors has been deprecated. Intel oneAPI Math Kernel Library 2025.0 will require Intel(R) Advanced Vector Extensions (Intel(R) AVX) instructions.\n"
     ]
    },
    {
     "name": "stderr",
     "output_type": "stream",
     "text": [
      "/Users/douglas/opt/anaconda3/lib/python3.9/site-packages/pandas/core/arrays/masked.py:60: UserWarning: Pandas requires version '1.3.6' or newer of 'bottleneck' (version '1.3.5' currently installed).\n",
      "  from pandas.core import (\n"
     ]
    }
   ],
   "source": [
    "# import standard python libraries\n",
    "import numpy as np\n",
    "import matplotlib.pyplot as plt\n",
    "import seaborn as sns\n",
    "import pandas as pd\n",
    "import os\n",
    "\n",
    "#import python packages for working with cooler files: https://github.com/open2c/cooler\n",
    "import cooler\n",
    "import cooltools\n",
    "import cooltools.lib.plotting\n",
    "from matplotlib.colors import LogNorm\n",
    "from mpl_toolkits.axes_grid1 import make_axes_locatable\n"
   ]
  },
  {
   "cell_type": "code",
   "execution_count": 2,
   "id": "dfd65e2a",
   "metadata": {},
   "outputs": [],
   "source": [
    "### to load a cooler with a specific resolution use the following syntax:\n",
    "filepath_1kb = '/Users/douglas/Documents/Features_Transfer/store_Hi-C/JJ10_11_17_18.wo3kbCisTransHom.1000.cool'\n",
    "c_1kb = cooler.Cooler(filepath_1kb)\n",
    "#cooler.Cooler(f'{data_dir}/test.mcool::resolutions/1000000')"
   ]
  },
  {
   "cell_type": "code",
   "execution_count": null,
   "id": "b1cbf378",
   "metadata": {},
   "outputs": [],
   "source": [
    "c_1kb.matrix()\n",
    "mat = c_1kb.matrix(balance=True, sparse=True)[0:215641, 0:215641]#4317\n",
    "arr = mat.toarray()#fill in lower triangle\n",
    "\n",
    "fig = plt.figure(figsize=(10, 10))\n",
    "ax = fig.add_subplot(111)\n",
    "im = ax.matshow(np.log10(arr), cmap='fall',vmin = -5, vmax = -1)\n",
    "\n",
    "fig.colorbar(im)"
   ]
  },
  {
   "cell_type": "code",
   "execution_count": null,
   "id": "eb5f16f7",
   "metadata": {},
   "outputs": [],
   "source": []
  }
 ],
 "metadata": {
  "kernelspec": {
   "display_name": "Python 3 (ipykernel)",
   "language": "python",
   "name": "python3"
  },
  "language_info": {
   "codemirror_mode": {
    "name": "ipython",
    "version": 3
   },
   "file_extension": ".py",
   "mimetype": "text/x-python",
   "name": "python",
   "nbconvert_exporter": "python",
   "pygments_lexer": "ipython3",
   "version": "3.9.18"
  }
 },
 "nbformat": 4,
 "nbformat_minor": 5
}

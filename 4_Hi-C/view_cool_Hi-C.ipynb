{
 "cells": [
  {
   "cell_type": "markdown",
   "metadata": {
    "ExecuteTime": {
     "end_time": "2019-02-23T03:56:34.662662Z",
     "start_time": "2019-02-23T03:56:34.309505Z"
    }
   },
   "source": [
    "This notebook helps view Hi-C files in the .cool format. \n",
    "\n",
    "It is based on cooler_api.ipynb on the open2c github: \n",
    "\n",
    "https://github.com/open2c/cooler-binder/blob/master/cooler_api.ipynb"
   ]
  },
  {
   "cell_type": "code",
   "execution_count": 1,
   "metadata": {
    "ExecuteTime": {
     "end_time": "2019-02-23T03:56:34.662662Z",
     "start_time": "2019-02-23T03:56:34.309505Z"
    }
   },
   "outputs": [
    {
     "name": "stdout",
     "output_type": "stream",
     "text": [
      "Intel MKL WARNING: Support of Intel(R) Streaming SIMD Extensions 4.2 (Intel(R) SSE4.2) enabled only processors has been deprecated. Intel oneAPI Math Kernel Library 2025.0 will require Intel(R) Advanced Vector Extensions (Intel(R) AVX) instructions.\n",
      "Intel MKL WARNING: Support of Intel(R) Streaming SIMD Extensions 4.2 (Intel(R) SSE4.2) enabled only processors has been deprecated. Intel oneAPI Math Kernel Library 2025.0 will require Intel(R) Advanced Vector Extensions (Intel(R) AVX) instructions.\n"
     ]
    }
   ],
   "source": [
    "import os.path as op\n",
    "import matplotlib.pyplot as plt\n",
    "import numpy as np\n",
    "import pandas\n",
    "import h5py\n",
    "import matplotlib as mpl\n",
    "import ipywidgets as widgets\n",
    "import math\n",
    "\n",
    "import cooler"
   ]
  },
  {
   "cell_type": "code",
   "execution_count": 2,
   "metadata": {
    "ExecuteTime": {
     "end_time": "2019-02-23T03:56:34.662662Z",
     "start_time": "2019-02-23T03:56:34.309505Z"
    }
   },
   "outputs": [],
   "source": [
    "# activate inline plotting\n",
    "%matplotlib inline"
   ]
  },
  {
   "cell_type": "markdown",
   "metadata": {},
   "source": [
    "# 50kb PnM"
   ]
  },
  {
   "cell_type": "markdown",
   "metadata": {},
   "source": [
    "### Load 50kb PnM Hi-C Map"
   ]
  },
  {
   "cell_type": "code",
   "execution_count": null,
   "metadata": {
    "ExecuteTime": {
     "end_time": "2019-02-23T03:56:34.680090Z",
     "start_time": "2019-02-23T03:56:34.675373Z"
    }
   },
   "outputs": [],
   "source": [
    "#50000 selects 50kb resolution.\n",
    "filepath_50kb = '/Users/douglas/Documents/Features_Transfer/store_Hi-C/JJ10_11_17_18.wo3kbCisTransHom.50000.cool'\n",
    "c_50kb = cooler.Cooler(filepath_50kb)"
   ]
  },
  {
   "cell_type": "markdown",
   "metadata": {},
   "source": [
    "### Tables About 50kb PnM Hi-C Map"
   ]
  },
  {
   "cell_type": "code",
   "execution_count": null,
   "metadata": {
    "ExecuteTime": {
     "end_time": "2019-02-23T03:56:34.807695Z",
     "start_time": "2019-02-23T03:56:34.793759Z"
    }
   },
   "outputs": [],
   "source": [
    "# 057 = maternal\n",
    "# 439 = paternal\n",
    "# length units are base pairs\n",
    "df_50_kb = c_50kb.chroms()[:] #df_50_kb stands for (pandas) data frame\n",
    "total_length_bp = df_50_kb['length'].sum()#Total number of base pairs in the PnM Hi-C map\n",
    "total_bins = c_50kb.extent(df_50_kb['name'].iloc[-1])[-1] #Total number of bins in the PnM Hi-C map.\n",
    "print('Total base pairs in Hi-C map: ',total_length_bp)\n",
    "print('Total bins in Hi-C map:       ',total_bins)\n",
    "print('Total base pairs/total bins:  ', total_length_bp/total_bins)\n",
    "print('')\n",
    "print('057 = maternal; 439 = paternal')\n",
    "print('')\n",
    "print(df_50_kb)\n",
    "\n",
    "print('')\n",
    "for name in c_50kb.chromnames:\n",
    "    print(name,'   ', c_50kb.extent(name))\n",
    "    \n",
    "#name    (start_index, stop_index)"
   ]
  },
  {
   "cell_type": "markdown",
   "metadata": {},
   "source": [
    "### Full 50kb PnM Hi-C Map"
   ]
  },
  {
   "cell_type": "code",
   "execution_count": null,
   "metadata": {
    "ExecuteTime": {
     "end_time": "2019-02-23T03:56:35.498319Z",
     "start_time": "2019-02-23T03:56:35.429311Z"
    }
   },
   "outputs": [],
   "source": [
    "c_50kb.matrix()\n",
    "arr = c_50kb.matrix(balance=False)[0:total_bins, 0:total_bins]\n",
    "mat = c_50kb.matrix(balance=False, sparse=True)[0:total_bins, 0:total_bins]\n",
    "arr = mat.toarray()#fill in lower triangle\n",
    "\n",
    "fig = plt.figure(figsize=(10, 10))\n",
    "ax = fig.add_subplot(111)\n",
    "im = ax.matshow(np.log10(arr), cmap='YlOrRd')\n",
    "\n",
    "fig.colorbar(im)"
   ]
  },
  {
   "cell_type": "markdown",
   "metadata": {},
   "source": [
    "### Trans contacts / Cis contacts  (order parameter for pairing)"
   ]
  },
  {
   "cell_type": "code",
   "execution_count": null,
   "metadata": {},
   "outputs": [],
   "source": [
    "# Way 1: using all of chromosomes 2 mat and pat\n",
    "\n",
    "trans_contacts = np.sum(arr[0:884,884:1768])\n",
    "cis_contacts = np.sum(arr[0:884,0:884])\n",
    "print('trans_contacts = ',trans_contacts)\n",
    "print('cis_contacts = ',cis_contacts)\n",
    "print('trans_contacts / cis_contacts = ',trans_contacts/cis_contacts)"
   ]
  },
  {
   "cell_type": "code",
   "execution_count": null,
   "metadata": {},
   "outputs": [],
   "source": [
    "# Way 2: Using a portion of chromosomes 2 mat and pat about the same size as my simulations.\n",
    "\n",
    "# 2500*0.5 kb = 1250 kb region in simulation\n",
    "# 50 kb per bin in the above map\n",
    "#1250/50=25 bins needed for the below calculation\n",
    "\n",
    "trans_contacts = np.sum(arr[0:25,884:909])\n",
    "cis_contacts = np.sum(arr[0:25,0:25])\n",
    "print('trans_contacts = ',trans_contacts)\n",
    "print('cis_contacts = ',cis_contacts)\n",
    "print('trans_contacts / cis_contacts = ',trans_contacts/cis_contacts)"
   ]
  },
  {
   "cell_type": "markdown",
   "metadata": {},
   "source": [
    "### Trans chr2 Whole Chromosome 50kb PnM Hi-C Map"
   ]
  },
  {
   "cell_type": "code",
   "execution_count": null,
   "metadata": {
    "ExecuteTime": {
     "end_time": "2019-02-23T03:56:35.498319Z",
     "start_time": "2019-02-23T03:56:35.429311Z"
    }
   },
   "outputs": [],
   "source": [
    "c_50kb.matrix()\n",
    "arr = c_50kb.matrix(balance=False)[884:1768, 0:884]\n",
    "mat = c_50kb.matrix(balance=False, sparse=True)[884:1768, 0:884]\n",
    "arr = mat.toarray()#fill in lower triangle\n",
    "\n",
    "fig = plt.figure(figsize=(10, 10))\n",
    "ax = fig.add_subplot(111)\n",
    "im = ax.matshow(np.log10(arr), cmap='YlOrRd')\n",
    "\n",
    "fig.colorbar(im)\n",
    "fig.savefig('/Users/douglas/Documents/Features_Transfer/figures/chr2 50kb trans Hi-C diagonal.pdf')"
   ]
  },
  {
   "cell_type": "markdown",
   "metadata": {},
   "source": [
    "### Chr2 Trans 50kb PnM Hi-C Diagonal"
   ]
  },
  {
   "cell_type": "code",
   "execution_count": null,
   "metadata": {
    "scrolled": false
   },
   "outputs": [],
   "source": [
    "# Explore the chr2 50kb trans Hi-C diagonal.\n",
    "\n",
    "chr2_bin_max_50_kb = c_50kb.extent(df_50_kb['name'].iloc[1])[-1] # the last bin of both chr2 maternal and chr2 paternal\n",
    "print('chr2 bins',chr2_bin_max_50_kb)\n",
    "\n",
    "kb_scale = 900 #the number of kilo base pairs to view along the trans diagonal.\n",
    "d_0 = round(kb_scale/50) #bins along diagonal of Hi-C map close-up.\n",
    "\n",
    "@widgets.interact #Refreshes d_window_min and kb_scale with sliders\n",
    "\n",
    "def close_HiC(d_window_min = (0,chr2_bin_max_50_kb-d_0),normalize=False):\n",
    "    #Pat=439 varies by row, Mat=057 varies by column.\n",
    "    arr2 = c_50kb.matrix(balance=normalize)[chr2_bin_max_50_kb+d_window_min:chr2_bin_max_50_kb+d_0+d_window_min,d_window_min:d_0+d_window_min]\n",
    "    mat2 = c_50kb.matrix(balance=normalize, sparse=True)[chr2_bin_max_50_kb+d_window_min:chr2_bin_max_50_kb+d_0+d_window_min,d_window_min:d_0+d_window_min]\n",
    "    arr2 = mat2.toarray()#fill in lower triangle\n",
    "    fig2 = plt.figure(figsize=(10, 10))\n",
    "    ax2 = fig2.add_subplot(111)\n",
    "    im2 = ax2.matshow(np.log10(arr2), cmap='YlOrRd')\n",
    "    fig2.colorbar(im2)\n",
    "    fig2.savefig('/Users/douglas/Documents/Features_Transfer/figures/chr2 trans 50kb Hi-C diagonal close.pdf')"
   ]
  },
  {
   "cell_type": "markdown",
   "metadata": {},
   "source": [
    "### 50kb res tight = loose"
   ]
  },
  {
   "cell_type": "code",
   "execution_count": null,
   "metadata": {},
   "outputs": [],
   "source": [
    "# At what genomic distance do tight and loose pairing have the same contact frequency?\n",
    "\n",
    "loose_matrix = c_50kb.matrix(balance=True)[651:655,884+651:884+655] # loosely paired region of a trans map\n",
    "tight_matrix = c_50kb.matrix(balance=True)[656:671,884+656:884+671] # tightly paired region of a trans map\n",
    "print('p_loose =',np.average(loose_matrix))\n",
    "print('')\n",
    "for d in range(5):\n",
    "    avg = (np.average(np.diagonal(tight_matrix, offset=d))+np.average(np.diagonal(tight_matrix, offset=-d)))/2\n",
    "    #print('p_tight','d=',d ,'units = 50kb' , avg)\n",
    "    print('from',(d-1)*50,'kb to',(d+1)*50,'kb, the average is ',avg)\n",
    "print('')\n",
    "print('At genomic distance d within [50kb,100], tight pairing has the same average contact probability as loose pairing.')\n",
    "\n",
    "# I use this for calibration.\n",
    "# A 200kb loose domain has contact frequency equal to that of \n",
    "# a tightly paired region 50kb away from the diagonal.\n",
    "\n",
    "# If 500 beads in my simulation corresponds to 200kb, then\n",
    "# Tight = loose at 50kb(1bead/0.5kb) = 100 beads"
   ]
  },
  {
   "cell_type": "markdown",
   "metadata": {},
   "source": [
    "# 1kb PnM"
   ]
  },
  {
   "cell_type": "markdown",
   "metadata": {},
   "source": [
    "### Load 1kb PnM Hi-C Map"
   ]
  },
  {
   "cell_type": "code",
   "execution_count": 3,
   "metadata": {
    "ExecuteTime": {
     "end_time": "2019-02-23T03:56:34.680090Z",
     "start_time": "2019-02-23T03:56:34.675373Z"
    }
   },
   "outputs": [],
   "source": [
    "#1000 selects 1kb resolution.\n",
    "filepath_1kb = '/Users/douglas/Documents/Features_Transfer/store_Hi-C/JJ10_11_17_18.wo3kbCisTransHom.1000.cool'\n",
    "c_1kb = cooler.Cooler(filepath_1kb)"
   ]
  },
  {
   "cell_type": "markdown",
   "metadata": {},
   "source": [
    "### Tables About 1kb PnM Hi-C Map"
   ]
  },
  {
   "cell_type": "code",
   "execution_count": 4,
   "metadata": {
    "ExecuteTime": {
     "end_time": "2019-02-23T03:56:34.807695Z",
     "start_time": "2019-02-23T03:56:34.793759Z"
    },
    "scrolled": false
   },
   "outputs": [
    {
     "name": "stdout",
     "output_type": "stream",
     "text": [
      "Total base pairs in Hi-C map:  215636551\n",
      "Total bins in Hi-C map:        215641\n",
      "Total base pairs/total bins:   999.9793684874397\n",
      "\n",
      "057 = maternal; 439 = paternal\n",
      "\n",
      "        name    length\n",
      "0  chr2L_057  23011544\n",
      "1  chr2R_057  21146708\n",
      "2  chr2L_439  23011544\n",
      "3  chr2R_439  21146708\n",
      "4  chr3L_057  24543557\n",
      "5  chr3R_057  27905053\n",
      "6  chr3L_439  24543557\n",
      "7  chr3R_439  27905053\n",
      "8   chrX_057  22422827\n",
      "\n",
      "chr2L_057     (0, 23012)\n",
      "chr2R_057     (23012, 44159)\n",
      "chr2L_439     (44159, 67171)\n",
      "chr2R_439     (67171, 88318)\n",
      "chr3L_057     (88318, 112862)\n",
      "chr3R_057     (112862, 140768)\n",
      "chr3L_439     (140768, 165312)\n",
      "chr3R_439     (165312, 193218)\n",
      "chrX_057     (193218, 215641)\n"
     ]
    }
   ],
   "source": [
    "# 057 = maternal\n",
    "# 439 = paternal\n",
    "# length units are base pairs\n",
    "df_1_kb = c_1kb.chroms()[:] #df_1_kb stands for (pandas) data frame\n",
    "total_length_bp = df_1_kb['length'].sum()#Total number of base pairs in the PnM Hi-C map\n",
    "total_bins = c_1kb.extent(df_1_kb['name'].iloc[-1])[-1] #Total number of bins in the PnM Hi-C map.\n",
    "print('Total base pairs in Hi-C map: ',total_length_bp)\n",
    "print('Total bins in Hi-C map:       ',total_bins)\n",
    "print('Total base pairs/total bins:  ', total_length_bp/total_bins)\n",
    "print('')\n",
    "print('057 = maternal; 439 = paternal')\n",
    "print('')\n",
    "print(df_1_kb)\n",
    "\n",
    "print('')\n",
    "for name in c_1kb.chromnames:\n",
    "    print(name,'   ', c_1kb.extent(name))\n",
    "    \n",
    "#name    (start_index, stop_index)"
   ]
  },
  {
   "cell_type": "markdown",
   "metadata": {},
   "source": [
    "### Trans contacts / Cis contacts  (order parameter for pairing)"
   ]
  },
  {
   "cell_type": "code",
   "execution_count": 6,
   "metadata": {
    "ExecuteTime": {
     "end_time": "2019-02-23T03:56:35.498319Z",
     "start_time": "2019-02-23T03:56:35.429311Z"
    }
   },
   "outputs": [
    {
     "name": "stdout",
     "output_type": "stream",
     "text": [
      "trans_contacts =  298\n",
      "cis_contacts =  105842\n",
      "trans_contacts / cis_contacts =  0.0028155174694355738\n"
     ]
    }
   ],
   "source": [
    "c_1kb.matrix()\n",
    "arr1 = c_1kb.matrix(balance=False)[0:88318, 0:88318]\n",
    "mat1 = c_1kb.matrix(balance=False, sparse=True)[0:88318, 0:88318]\n",
    "arr1 = mat1.toarray()#fill in lower triangle\n",
    "\n",
    "# Way 3: Using a portion of chromosomes 2 mat and pat about the same size as my simulations.\n",
    "\n",
    "# 2500*0.5 kb = 1250 kb region in simulation\n",
    "# 1 kb per bin in the above map\n",
    "# 1250 bins needed for the below calculation\n",
    "\n",
    "trans_contacts = np.sum(arr1[0:1250,23012:1250+23012])\n",
    "cis_contacts = np.sum(arr1[0:1250,0:1250])\n",
    "print('trans_contacts = ',trans_contacts)\n",
    "print('cis_contacts = ',cis_contacts)\n",
    "print('trans_contacts / cis_contacts = ',trans_contacts/cis_contacts)\n",
    "print('This value is off because near the diagonal is full of zeros.')"
   ]
  },
  {
   "cell_type": "markdown",
   "metadata": {},
   "source": [
    "### Chr2 Trans 1kb PnM Hi-C Diagonal"
   ]
  },
  {
   "cell_type": "code",
   "execution_count": null,
   "metadata": {
    "scrolled": false
   },
   "outputs": [],
   "source": [
    "# Explore the chr2 1kb trans Hi-C diagonal.\n",
    "\n",
    "chr2_bin_max_1kb = c_1kb.extent(df_1_kb['name'].iloc[1])[-1] # the last bin of both chr2 maternal and chr2 paternal\n",
    "print('chr2 bins',chr2_bin_max_1kb)\n",
    "\n",
    "kb_scale = 400 #the number of kilo base pairs to view along the trans diagonal.\n",
    "d_0 = round(kb_scale/1) #bins along diagonal of Hi-C map close-up.\n",
    "\n",
    "@widgets.interact #Refreshes d_window_min and kb_scale with sliders\n",
    "\n",
    "def close_HiC(d_window_min = (0,chr2_bin_max_1kb-d_0),normalize=False):\n",
    "    #Pat=439 varies by row, Mat=057 varies by column.\n",
    "    arr2 = c_1kb.matrix(balance=normalize)[chr2_bin_max_1kb+d_window_min:chr2_bin_max_1kb+d_0+d_window_min,d_window_min:d_0+d_window_min]\n",
    "    mat2 = c_1kb.matrix(balance=normalize, sparse=True)[chr2_bin_max_1kb+d_window_min:chr2_bin_max_1kb+d_0+d_window_min,d_window_min:d_0+d_window_min]\n",
    "    arr2 = mat2.toarray()#fill in lower triangle\n",
    "    fig2 = plt.figure(figsize=(10, 10))\n",
    "    ax2 = fig2.add_subplot(111)\n",
    "    im2 = ax2.matshow(np.log10(arr2), cmap='YlOrRd')\n",
    "    fig2.colorbar(im2)\n",
    "    fig2.savefig('/Users/douglas/Documents/Features_Transfer/figures/chr2 trans 1kb Hi-C diagonal close.pdf')"
   ]
  },
  {
   "cell_type": "markdown",
   "metadata": {},
   "source": [
    "### 1kb res tight = loose"
   ]
  },
  {
   "cell_type": "code",
   "execution_count": null,
   "metadata": {},
   "outputs": [],
   "source": [
    "# At what genomic distance do tight and loose pairing have the same contact frequency?\n",
    "\n",
    "loose_matrix2 = c_1kb.matrix(balance=True)[32510:32720,32510+44159:32720+44159] # loosely paired region of a trans map\n",
    "#tight_matrix2 = c_1kb.matrix(balance=True)[32730:33940,32730+44159:33940+44159] # tightly paired region of a trans map\n",
    "total = 0.0\n",
    "counter = 0\n",
    "for i in range(210):\n",
    "    for j in range(210):\n",
    "        new_entry = loose_matrix2[i,j]\n",
    "        if math.isnan(new_entry) == False: # There are many empty (NaN) entries in the matrix. We can't include them in an average.\n",
    "            total += new_entry\n",
    "            counter += 1\n",
    "print('total =',total,'; counter =',counter)\n",
    "print('p_loose =',total/counter)    \n",
    "print('')"
   ]
  },
  {
   "cell_type": "markdown",
   "metadata": {},
   "source": [
    "## Probability vs genomic distance for chromosome 2 (in kb) for calibration purposes"
   ]
  },
  {
   "cell_type": "code",
   "execution_count": null,
   "metadata": {},
   "outputs": [],
   "source": [
    "# Checking that the matrix balancing behaves as expected\n",
    "M = c_1kb.matrix(balance=True)\n",
    "from numpy import nansum\n",
    "for i in range(20):\n",
    "    print(nansum(M[i,:])) # should be 0.0 if all nan or approximately 1.0 if not all nan"
   ]
  },
  {
   "cell_type": "markdown",
   "metadata": {},
   "source": [
    "### Cis"
   ]
  },
  {
   "cell_type": "code",
   "execution_count": null,
   "metadata": {},
   "outputs": [],
   "source": [
    "#Calculate average probability vs genomic distance in maternal chromosome 2\n",
    "\n",
    "print('loading matrix')\n",
    "numpy_chr2_cis_1kb = c_1kb.matrix(balance=True)[0:44159,0:44159]\n",
    "N = 44159\n",
    "\n",
    "print('taking average')\n",
    "d_max = 20000 # The max genomic distance at which to plot P vs d.\n",
    "average = np.zeros(d_max)\n",
    "for d in range(d_max):\n",
    "    sum_d = 0.0\n",
    "    counter = 0 # counts how many numbers are being averaged\n",
    "    for i in range(d,N):\n",
    "        new_entry = numpy_chr2_cis_1kb[i,i-d] # The matrix entry to be possibly included in the average.\n",
    "        if math.isnan(new_entry) == False: # There are many empty (NaN) entries in the matrix. We can't include them in an average.\n",
    "            sum_d += new_entry\n",
    "            counter += 1\n",
    "    avg = sum_d/counter\n",
    "    average[d] = avg\n",
    "\n",
    "plt.plot(average)\n",
    "plt.yscale('log')\n",
    "plt.title('Experimental average P vs d at 1kb resolution')\n",
    "np.savetxt(\"/Users/douglas/Documents/Features_Transfer/figures/chr2_1kbRes_cis_P_vs_d.txt\",average)"
   ]
  },
  {
   "cell_type": "markdown",
   "metadata": {},
   "source": [
    "### Trans"
   ]
  },
  {
   "cell_type": "code",
   "execution_count": null,
   "metadata": {},
   "outputs": [],
   "source": [
    "#Calculate average probability vs trans genomic distance in chromosome 2\n",
    "\n",
    "print('loading matrix')\n",
    "numpy_chr2_trans_1kb = c_1kb.matrix(balance=True)[0:44159,44159:2*44159]\n",
    "N = 44159\n",
    "\n",
    "print('taking average')\n",
    "d_max = 20000 # The max trans genomic distance at which to plot P vs d.\n",
    "average = np.zeros(d_max)\n",
    "for d in range(d_max):\n",
    "    sum_d = 0.0\n",
    "    counter = 0 # counts how many numbers are being averaged\n",
    "    for i in range(d,N):\n",
    "        new_entry = numpy_chr2_trans_1kb[i,i-d] # The matrix entry to be possibly included in the average.\n",
    "        if math.isnan(new_entry) == False: # There are many empty (NaN) entries in the matrix. We can't include them in an average.\n",
    "            sum_d += new_entry\n",
    "            counter += 1\n",
    "    avg = sum_d/counter\n",
    "    average[d] = avg\n",
    "\n",
    "plt.plot(average)\n",
    "plt.yscale('log')\n",
    "plt.title('Experimental average P vs d at 1kb resolution')\n",
    "np.savetxt(\"/Users/douglas/Documents/Features_Transfer/figures/chr2_1kbRes_trans_P_vs_d.txt\",average)"
   ]
  },
  {
   "cell_type": "markdown",
   "metadata": {},
   "source": [
    "<font color='white'>\n",
    "# Filler Text to Prevent Annoying Scrolling Behavior When Above Cell Refreshes.<br>\n",
    "a <br>\n",
    "a <br>\n",
    "a <br>\n",
    "a <br>\n",
    "a <br>\n",
    "a <br>\n",
    "a <br>\n",
    "a <br>\n",
    "a <br>\n",
    "a <br>\n",
    "a <br>\n",
    "a <br>\n",
    "a <br>\n",
    "a <br>\n",
    "a <br>\n",
    "a <br>\n",
    "a <br>\n",
    "a <br>\n",
    "a <br>\n",
    "a <br>\n",
    "a <br>\n",
    "a <br>\n",
    "a <br>\n",
    "a <br>\n",
    "a <br>\n",
    "a <br>\n",
    "a <br>\n",
    "a <br>\n",
    "a <br>\n",
    "a <br>\n",
    "a <br>\n",
    "a <br>\n",
    "a <br>\n",
    "a <br>\n",
    "a <br>\n",
    "a <br>\n",
    "a <br>\n",
    "a <br>\n",
    "a <br>\n",
    "a <br>\n",
    "a <br>\n",
    "a <br>\n",
    "a <br>\n",
    "a <br>\n",
    "a <br>\n",
    "a <br>\n",
    "</font>"
   ]
  },
  {
   "cell_type": "code",
   "execution_count": null,
   "metadata": {},
   "outputs": [],
   "source": []
  }
 ],
 "metadata": {
  "kernelspec": {
   "display_name": "Python 3 (ipykernel)",
   "language": "python",
   "name": "python3"
  },
  "language_info": {
   "codemirror_mode": {
    "name": "ipython",
    "version": 3
   },
   "file_extension": ".py",
   "mimetype": "text/x-python",
   "name": "python",
   "nbconvert_exporter": "python",
   "pygments_lexer": "ipython3",
   "version": "3.9.18"
  },
  "toc": {
   "base_numbering": 1,
   "nav_menu": {},
   "number_sections": true,
   "sideBar": true,
   "skip_h1_title": false,
   "title_cell": "Table of Contents",
   "title_sidebar": "Contents",
   "toc_cell": true,
   "toc_position": {},
   "toc_section_display": "block",
   "toc_window_display": true
  }
 },
 "nbformat": 4,
 "nbformat_minor": 2
}
